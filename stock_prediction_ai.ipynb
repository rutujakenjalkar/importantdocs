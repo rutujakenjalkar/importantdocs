{
  "cells": [
    {
      "cell_type": "markdown",
      "metadata": {
        "id": "view-in-github",
        "colab_type": "text"
      },
      "source": [
        "<a href=\"https://colab.research.google.com/github/rutujakenjalkar/importantdocs/blob/main/stock_prediction_ai.ipynb\" target=\"_parent\"><img src=\"https://colab.research.google.com/assets/colab-badge.svg\" alt=\"Open In Colab\"/></a>"
      ]
    },
    {
      "cell_type": "markdown",
      "metadata": {
        "id": "pNT9BypP7Yi2"
      },
      "source": [
        "# Extracting info from the API"
      ]
    },
    {
      "cell_type": "markdown",
      "metadata": {
        "id": "F1zaUKw97l-i"
      },
      "source": [
        "**Importing the libraries required**"
      ]
    },
    {
      "cell_type": "code",
      "execution_count": 1,
      "metadata": {
        "colab": {
          "base_uri": "https://localhost:8080/"
        },
        "collapsed": true,
        "id": "BtPBl30X7ukQ",
        "outputId": "f5d3d69b-bac5-43ca-ebc6-085cbac67fa3"
      },
      "outputs": [
        {
          "output_type": "stream",
          "name": "stdout",
          "text": [
            "Collecting alpha_vantage\n",
            "  Downloading alpha_vantage-3.0.0-py3-none-any.whl.metadata (12 kB)\n",
            "Requirement already satisfied: aiohttp in /usr/local/lib/python3.11/dist-packages (from alpha_vantage) (3.11.11)\n",
            "Requirement already satisfied: requests in /usr/local/lib/python3.11/dist-packages (from alpha_vantage) (2.32.3)\n",
            "Requirement already satisfied: aiohappyeyeballs>=2.3.0 in /usr/local/lib/python3.11/dist-packages (from aiohttp->alpha_vantage) (2.4.4)\n",
            "Requirement already satisfied: aiosignal>=1.1.2 in /usr/local/lib/python3.11/dist-packages (from aiohttp->alpha_vantage) (1.3.2)\n",
            "Requirement already satisfied: attrs>=17.3.0 in /usr/local/lib/python3.11/dist-packages (from aiohttp->alpha_vantage) (25.1.0)\n",
            "Requirement already satisfied: frozenlist>=1.1.1 in /usr/local/lib/python3.11/dist-packages (from aiohttp->alpha_vantage) (1.5.0)\n",
            "Requirement already satisfied: multidict<7.0,>=4.5 in /usr/local/lib/python3.11/dist-packages (from aiohttp->alpha_vantage) (6.1.0)\n",
            "Requirement already satisfied: propcache>=0.2.0 in /usr/local/lib/python3.11/dist-packages (from aiohttp->alpha_vantage) (0.2.1)\n",
            "Requirement already satisfied: yarl<2.0,>=1.17.0 in /usr/local/lib/python3.11/dist-packages (from aiohttp->alpha_vantage) (1.18.3)\n",
            "Requirement already satisfied: charset-normalizer<4,>=2 in /usr/local/lib/python3.11/dist-packages (from requests->alpha_vantage) (3.4.1)\n",
            "Requirement already satisfied: idna<4,>=2.5 in /usr/local/lib/python3.11/dist-packages (from requests->alpha_vantage) (3.10)\n",
            "Requirement already satisfied: urllib3<3,>=1.21.1 in /usr/local/lib/python3.11/dist-packages (from requests->alpha_vantage) (2.3.0)\n",
            "Requirement already satisfied: certifi>=2017.4.17 in /usr/local/lib/python3.11/dist-packages (from requests->alpha_vantage) (2025.1.31)\n",
            "Downloading alpha_vantage-3.0.0-py3-none-any.whl (35 kB)\n",
            "Installing collected packages: alpha_vantage\n",
            "Successfully installed alpha_vantage-3.0.0\n"
          ]
        }
      ],
      "source": [
        "!pip install alpha_vantage #used to install the alpahavantage package\n",
        "import pandas as pd\n",
        "import matplotlib.pyplot as plt\n",
        "import alpha_vantage.timeseries as TimeSeries"
      ]
    },
    {
      "cell_type": "markdown",
      "metadata": {
        "id": "PA6w-dZz9Loy"
      },
      "source": [
        "**API KEY and data access**"
      ]
    },
    {
      "cell_type": "code",
      "execution_count": 2,
      "metadata": {
        "id": "EDF6qIX19Uxh"
      },
      "outputs": [],
      "source": [
        "key = 'GMLL5NG1B93LPQYL'"
      ]
    },
    {
      "cell_type": "markdown",
      "metadata": {
        "id": "G2qk-QCM9oro"
      },
      "source": [
        "**Create time series object and make a call**"
      ]
    },
    {
      "cell_type": "code",
      "execution_count": 3,
      "metadata": {
        "id": "YllEWWAl9xrN"
      },
      "outputs": [],
      "source": [
        "ts =TimeSeries.TimeSeries(key=key,output_format='pandas')\n",
        "data, meta_data = ts.get_intraday(symbol='AAPL',interval='1min',outputsize='full')"
      ]
    },
    {
      "cell_type": "code",
      "execution_count": 4,
      "metadata": {
        "colab": {
          "base_uri": "https://localhost:8080/"
        },
        "id": "6ks0DAQk-z7n",
        "outputId": "4e8afc42-0ce4-47fe-cda7-ae53336670ff"
      },
      "outputs": [
        {
          "output_type": "execute_result",
          "data": {
            "text/plain": [
              "{'1. Information': 'Intraday (1min) open, high, low, close prices and volume',\n",
              " '2. Symbol': 'AAPL',\n",
              " '3. Last Refreshed': '2025-02-07 19:59:00',\n",
              " '4. Interval': '1min',\n",
              " '5. Output Size': 'Full size',\n",
              " '6. Time Zone': 'US/Eastern'}"
            ]
          },
          "metadata": {},
          "execution_count": 4
        }
      ],
      "source": [
        "meta_data"
      ]
    },
    {
      "cell_type": "code",
      "execution_count": 5,
      "metadata": {
        "colab": {
          "base_uri": "https://localhost:8080/"
        },
        "id": "OqGrsMXg_PpY",
        "outputId": "54e6076a-3296-43d4-f744-e6d7134cbfee"
      },
      "outputs": [
        {
          "output_type": "stream",
          "name": "stdout",
          "text": [
            "<class 'pandas.core.frame.DataFrame'>\n",
            "DatetimeIndex: 19179 entries, 2025-02-07 19:59:00 to 2025-01-10 04:00:00\n",
            "Data columns (total 5 columns):\n",
            " #   Column     Non-Null Count  Dtype  \n",
            "---  ------     --------------  -----  \n",
            " 0   1. open    19179 non-null  float64\n",
            " 1   2. high    19179 non-null  float64\n",
            " 2   3. low     19179 non-null  float64\n",
            " 3   4. close   19179 non-null  float64\n",
            " 4   5. volume  19179 non-null  float64\n",
            "dtypes: float64(5)\n",
            "memory usage: 899.0 KB\n"
          ]
        }
      ],
      "source": [
        "data.info()"
      ]
    },
    {
      "cell_type": "markdown",
      "metadata": {
        "id": "Op6OmLZZAAAo"
      },
      "source": [
        "**Getting the head values**"
      ]
    },
    {
      "cell_type": "code",
      "execution_count": 6,
      "metadata": {
        "colab": {
          "base_uri": "https://localhost:8080/",
          "height": 237
        },
        "id": "FMl7xH_P_4O-",
        "outputId": "f2a502fd-0e01-4c4c-ebfa-cc67d88d51c6"
      },
      "outputs": [
        {
          "output_type": "execute_result",
          "data": {
            "text/plain": [
              "                      1. open  2. high    3. low  4. close  5. volume\n",
              "date                                                                 \n",
              "2025-02-07 19:59:00  227.2698   227.29  227.2500  227.2889     1736.0\n",
              "2025-02-07 19:58:00  227.2700   227.27  227.2500  227.2700      568.0\n",
              "2025-02-07 19:57:00  227.2750   227.29  227.2500  227.2700      180.0\n",
              "2025-02-07 19:56:00  227.2800   227.30  227.2500  227.2800      311.0\n",
              "2025-02-07 19:55:00  227.2900   227.30  227.2511  227.2900       72.0"
            ],
            "text/html": [
              "\n",
              "  <div id=\"df-5cf3a005-dc59-4bd7-9596-72c4a3226789\" class=\"colab-df-container\">\n",
              "    <div>\n",
              "<style scoped>\n",
              "    .dataframe tbody tr th:only-of-type {\n",
              "        vertical-align: middle;\n",
              "    }\n",
              "\n",
              "    .dataframe tbody tr th {\n",
              "        vertical-align: top;\n",
              "    }\n",
              "\n",
              "    .dataframe thead th {\n",
              "        text-align: right;\n",
              "    }\n",
              "</style>\n",
              "<table border=\"1\" class=\"dataframe\">\n",
              "  <thead>\n",
              "    <tr style=\"text-align: right;\">\n",
              "      <th></th>\n",
              "      <th>1. open</th>\n",
              "      <th>2. high</th>\n",
              "      <th>3. low</th>\n",
              "      <th>4. close</th>\n",
              "      <th>5. volume</th>\n",
              "    </tr>\n",
              "    <tr>\n",
              "      <th>date</th>\n",
              "      <th></th>\n",
              "      <th></th>\n",
              "      <th></th>\n",
              "      <th></th>\n",
              "      <th></th>\n",
              "    </tr>\n",
              "  </thead>\n",
              "  <tbody>\n",
              "    <tr>\n",
              "      <th>2025-02-07 19:59:00</th>\n",
              "      <td>227.2698</td>\n",
              "      <td>227.29</td>\n",
              "      <td>227.2500</td>\n",
              "      <td>227.2889</td>\n",
              "      <td>1736.0</td>\n",
              "    </tr>\n",
              "    <tr>\n",
              "      <th>2025-02-07 19:58:00</th>\n",
              "      <td>227.2700</td>\n",
              "      <td>227.27</td>\n",
              "      <td>227.2500</td>\n",
              "      <td>227.2700</td>\n",
              "      <td>568.0</td>\n",
              "    </tr>\n",
              "    <tr>\n",
              "      <th>2025-02-07 19:57:00</th>\n",
              "      <td>227.2750</td>\n",
              "      <td>227.29</td>\n",
              "      <td>227.2500</td>\n",
              "      <td>227.2700</td>\n",
              "      <td>180.0</td>\n",
              "    </tr>\n",
              "    <tr>\n",
              "      <th>2025-02-07 19:56:00</th>\n",
              "      <td>227.2800</td>\n",
              "      <td>227.30</td>\n",
              "      <td>227.2500</td>\n",
              "      <td>227.2800</td>\n",
              "      <td>311.0</td>\n",
              "    </tr>\n",
              "    <tr>\n",
              "      <th>2025-02-07 19:55:00</th>\n",
              "      <td>227.2900</td>\n",
              "      <td>227.30</td>\n",
              "      <td>227.2511</td>\n",
              "      <td>227.2900</td>\n",
              "      <td>72.0</td>\n",
              "    </tr>\n",
              "  </tbody>\n",
              "</table>\n",
              "</div>\n",
              "    <div class=\"colab-df-buttons\">\n",
              "\n",
              "  <div class=\"colab-df-container\">\n",
              "    <button class=\"colab-df-convert\" onclick=\"convertToInteractive('df-5cf3a005-dc59-4bd7-9596-72c4a3226789')\"\n",
              "            title=\"Convert this dataframe to an interactive table.\"\n",
              "            style=\"display:none;\">\n",
              "\n",
              "  <svg xmlns=\"http://www.w3.org/2000/svg\" height=\"24px\" viewBox=\"0 -960 960 960\">\n",
              "    <path d=\"M120-120v-720h720v720H120Zm60-500h600v-160H180v160Zm220 220h160v-160H400v160Zm0 220h160v-160H400v160ZM180-400h160v-160H180v160Zm440 0h160v-160H620v160ZM180-180h160v-160H180v160Zm440 0h160v-160H620v160Z\"/>\n",
              "  </svg>\n",
              "    </button>\n",
              "\n",
              "  <style>\n",
              "    .colab-df-container {\n",
              "      display:flex;\n",
              "      gap: 12px;\n",
              "    }\n",
              "\n",
              "    .colab-df-convert {\n",
              "      background-color: #E8F0FE;\n",
              "      border: none;\n",
              "      border-radius: 50%;\n",
              "      cursor: pointer;\n",
              "      display: none;\n",
              "      fill: #1967D2;\n",
              "      height: 32px;\n",
              "      padding: 0 0 0 0;\n",
              "      width: 32px;\n",
              "    }\n",
              "\n",
              "    .colab-df-convert:hover {\n",
              "      background-color: #E2EBFA;\n",
              "      box-shadow: 0px 1px 2px rgba(60, 64, 67, 0.3), 0px 1px 3px 1px rgba(60, 64, 67, 0.15);\n",
              "      fill: #174EA6;\n",
              "    }\n",
              "\n",
              "    .colab-df-buttons div {\n",
              "      margin-bottom: 4px;\n",
              "    }\n",
              "\n",
              "    [theme=dark] .colab-df-convert {\n",
              "      background-color: #3B4455;\n",
              "      fill: #D2E3FC;\n",
              "    }\n",
              "\n",
              "    [theme=dark] .colab-df-convert:hover {\n",
              "      background-color: #434B5C;\n",
              "      box-shadow: 0px 1px 3px 1px rgba(0, 0, 0, 0.15);\n",
              "      filter: drop-shadow(0px 1px 2px rgba(0, 0, 0, 0.3));\n",
              "      fill: #FFFFFF;\n",
              "    }\n",
              "  </style>\n",
              "\n",
              "    <script>\n",
              "      const buttonEl =\n",
              "        document.querySelector('#df-5cf3a005-dc59-4bd7-9596-72c4a3226789 button.colab-df-convert');\n",
              "      buttonEl.style.display =\n",
              "        google.colab.kernel.accessAllowed ? 'block' : 'none';\n",
              "\n",
              "      async function convertToInteractive(key) {\n",
              "        const element = document.querySelector('#df-5cf3a005-dc59-4bd7-9596-72c4a3226789');\n",
              "        const dataTable =\n",
              "          await google.colab.kernel.invokeFunction('convertToInteractive',\n",
              "                                                    [key], {});\n",
              "        if (!dataTable) return;\n",
              "\n",
              "        const docLinkHtml = 'Like what you see? Visit the ' +\n",
              "          '<a target=\"_blank\" href=https://colab.research.google.com/notebooks/data_table.ipynb>data table notebook</a>'\n",
              "          + ' to learn more about interactive tables.';\n",
              "        element.innerHTML = '';\n",
              "        dataTable['output_type'] = 'display_data';\n",
              "        await google.colab.output.renderOutput(dataTable, element);\n",
              "        const docLink = document.createElement('div');\n",
              "        docLink.innerHTML = docLinkHtml;\n",
              "        element.appendChild(docLink);\n",
              "      }\n",
              "    </script>\n",
              "  </div>\n",
              "\n",
              "\n",
              "<div id=\"df-a561dad9-9e5f-4716-8b70-bb6daafcca8e\">\n",
              "  <button class=\"colab-df-quickchart\" onclick=\"quickchart('df-a561dad9-9e5f-4716-8b70-bb6daafcca8e')\"\n",
              "            title=\"Suggest charts\"\n",
              "            style=\"display:none;\">\n",
              "\n",
              "<svg xmlns=\"http://www.w3.org/2000/svg\" height=\"24px\"viewBox=\"0 0 24 24\"\n",
              "     width=\"24px\">\n",
              "    <g>\n",
              "        <path d=\"M19 3H5c-1.1 0-2 .9-2 2v14c0 1.1.9 2 2 2h14c1.1 0 2-.9 2-2V5c0-1.1-.9-2-2-2zM9 17H7v-7h2v7zm4 0h-2V7h2v10zm4 0h-2v-4h2v4z\"/>\n",
              "    </g>\n",
              "</svg>\n",
              "  </button>\n",
              "\n",
              "<style>\n",
              "  .colab-df-quickchart {\n",
              "      --bg-color: #E8F0FE;\n",
              "      --fill-color: #1967D2;\n",
              "      --hover-bg-color: #E2EBFA;\n",
              "      --hover-fill-color: #174EA6;\n",
              "      --disabled-fill-color: #AAA;\n",
              "      --disabled-bg-color: #DDD;\n",
              "  }\n",
              "\n",
              "  [theme=dark] .colab-df-quickchart {\n",
              "      --bg-color: #3B4455;\n",
              "      --fill-color: #D2E3FC;\n",
              "      --hover-bg-color: #434B5C;\n",
              "      --hover-fill-color: #FFFFFF;\n",
              "      --disabled-bg-color: #3B4455;\n",
              "      --disabled-fill-color: #666;\n",
              "  }\n",
              "\n",
              "  .colab-df-quickchart {\n",
              "    background-color: var(--bg-color);\n",
              "    border: none;\n",
              "    border-radius: 50%;\n",
              "    cursor: pointer;\n",
              "    display: none;\n",
              "    fill: var(--fill-color);\n",
              "    height: 32px;\n",
              "    padding: 0;\n",
              "    width: 32px;\n",
              "  }\n",
              "\n",
              "  .colab-df-quickchart:hover {\n",
              "    background-color: var(--hover-bg-color);\n",
              "    box-shadow: 0 1px 2px rgba(60, 64, 67, 0.3), 0 1px 3px 1px rgba(60, 64, 67, 0.15);\n",
              "    fill: var(--button-hover-fill-color);\n",
              "  }\n",
              "\n",
              "  .colab-df-quickchart-complete:disabled,\n",
              "  .colab-df-quickchart-complete:disabled:hover {\n",
              "    background-color: var(--disabled-bg-color);\n",
              "    fill: var(--disabled-fill-color);\n",
              "    box-shadow: none;\n",
              "  }\n",
              "\n",
              "  .colab-df-spinner {\n",
              "    border: 2px solid var(--fill-color);\n",
              "    border-color: transparent;\n",
              "    border-bottom-color: var(--fill-color);\n",
              "    animation:\n",
              "      spin 1s steps(1) infinite;\n",
              "  }\n",
              "\n",
              "  @keyframes spin {\n",
              "    0% {\n",
              "      border-color: transparent;\n",
              "      border-bottom-color: var(--fill-color);\n",
              "      border-left-color: var(--fill-color);\n",
              "    }\n",
              "    20% {\n",
              "      border-color: transparent;\n",
              "      border-left-color: var(--fill-color);\n",
              "      border-top-color: var(--fill-color);\n",
              "    }\n",
              "    30% {\n",
              "      border-color: transparent;\n",
              "      border-left-color: var(--fill-color);\n",
              "      border-top-color: var(--fill-color);\n",
              "      border-right-color: var(--fill-color);\n",
              "    }\n",
              "    40% {\n",
              "      border-color: transparent;\n",
              "      border-right-color: var(--fill-color);\n",
              "      border-top-color: var(--fill-color);\n",
              "    }\n",
              "    60% {\n",
              "      border-color: transparent;\n",
              "      border-right-color: var(--fill-color);\n",
              "    }\n",
              "    80% {\n",
              "      border-color: transparent;\n",
              "      border-right-color: var(--fill-color);\n",
              "      border-bottom-color: var(--fill-color);\n",
              "    }\n",
              "    90% {\n",
              "      border-color: transparent;\n",
              "      border-bottom-color: var(--fill-color);\n",
              "    }\n",
              "  }\n",
              "</style>\n",
              "\n",
              "  <script>\n",
              "    async function quickchart(key) {\n",
              "      const quickchartButtonEl =\n",
              "        document.querySelector('#' + key + ' button');\n",
              "      quickchartButtonEl.disabled = true;  // To prevent multiple clicks.\n",
              "      quickchartButtonEl.classList.add('colab-df-spinner');\n",
              "      try {\n",
              "        const charts = await google.colab.kernel.invokeFunction(\n",
              "            'suggestCharts', [key], {});\n",
              "      } catch (error) {\n",
              "        console.error('Error during call to suggestCharts:', error);\n",
              "      }\n",
              "      quickchartButtonEl.classList.remove('colab-df-spinner');\n",
              "      quickchartButtonEl.classList.add('colab-df-quickchart-complete');\n",
              "    }\n",
              "    (() => {\n",
              "      let quickchartButtonEl =\n",
              "        document.querySelector('#df-a561dad9-9e5f-4716-8b70-bb6daafcca8e button');\n",
              "      quickchartButtonEl.style.display =\n",
              "        google.colab.kernel.accessAllowed ? 'block' : 'none';\n",
              "    })();\n",
              "  </script>\n",
              "</div>\n",
              "\n",
              "    </div>\n",
              "  </div>\n"
            ],
            "application/vnd.google.colaboratory.intrinsic+json": {
              "type": "dataframe",
              "variable_name": "data",
              "summary": "{\n  \"name\": \"data\",\n  \"rows\": 19179,\n  \"fields\": [\n    {\n      \"column\": \"date\",\n      \"properties\": {\n        \"dtype\": \"date\",\n        \"min\": \"2025-01-10 04:00:00\",\n        \"max\": \"2025-02-07 19:59:00\",\n        \"num_unique_values\": 19179,\n        \"samples\": [\n          \"2025-01-10 11:36:00\",\n          \"2025-01-29 12:56:00\",\n          \"2025-01-16 05:39:00\"\n        ],\n        \"semantic_type\": \"\",\n        \"description\": \"\"\n      }\n    },\n    {\n      \"column\": \"1. open\",\n      \"properties\": {\n        \"dtype\": \"number\",\n        \"std\": 6.0387521396381025,\n        \"min\": 202.0365,\n        \"max\": 255.27,\n        \"num_unique_values\": 5416,\n        \"samples\": [\n          229.535,\n          233.898,\n          233.47\n        ],\n        \"semantic_type\": \"\",\n        \"description\": \"\"\n      }\n    },\n    {\n      \"column\": \"2. high\",\n      \"properties\": {\n        \"dtype\": \"number\",\n        \"std\": 6.068263268746482,\n        \"min\": 218.67,\n        \"max\": 258.865,\n        \"num_unique_values\": 4552,\n        \"samples\": [\n          232.11,\n          234.13,\n          227.63\n        ],\n        \"semantic_type\": \"\",\n        \"description\": \"\"\n      }\n    },\n    {\n      \"column\": \"3. low\",\n      \"properties\": {\n        \"dtype\": \"number\",\n        \"std\": 6.069939822648037,\n        \"min\": 191.9203,\n        \"max\": 247.95,\n        \"num_unique_values\": 4488,\n        \"samples\": [\n          229.17,\n          234.115,\n          232.4144\n        ],\n        \"semantic_type\": \"\",\n        \"description\": \"\"\n      }\n    },\n    {\n      \"column\": \"4. close\",\n      \"properties\": {\n        \"dtype\": \"number\",\n        \"std\": 6.032431946118626,\n        \"min\": 212.64,\n        \"max\": 248.046,\n        \"num_unique_values\": 5833,\n        \"samples\": [\n          238.5002,\n          233.87,\n          238.55\n        ],\n        \"semantic_type\": \"\",\n        \"description\": \"\"\n      }\n    },\n    {\n      \"column\": \"5. volume\",\n      \"properties\": {\n        \"dtype\": \"number\",\n        \"std\": 629393.8131788493,\n        \"min\": 1.0,\n        \"max\": 30084295.0,\n        \"num_unique_values\": 12352,\n        \"samples\": [\n          3355.0,\n          10098.0,\n          34726.0\n        ],\n        \"semantic_type\": \"\",\n        \"description\": \"\"\n      }\n    }\n  ]\n}"
            }
          },
          "metadata": {},
          "execution_count": 6
        }
      ],
      "source": [
        "data.head()"
      ]
    },
    {
      "cell_type": "markdown",
      "metadata": {
        "id": "2b_pzpkSAO5I"
      },
      "source": [
        "**Getting the data**"
      ]
    },
    {
      "cell_type": "code",
      "execution_count": 7,
      "metadata": {
        "colab": {
          "base_uri": "https://localhost:8080/",
          "height": 455
        },
        "id": "U2hHtHrbALO7",
        "outputId": "4bbfd8e0-c56a-4b42-918b-fd25574a21bc"
      },
      "outputs": [
        {
          "output_type": "execute_result",
          "data": {
            "text/plain": [
              "                      1. open  2. high    3. low  4. close  5. volume\n",
              "date                                                                 \n",
              "2025-02-07 19:59:00  227.2698   227.29  227.2500  227.2889     1736.0\n",
              "2025-02-07 19:58:00  227.2700   227.27  227.2500  227.2700      568.0\n",
              "2025-02-07 19:57:00  227.2750   227.29  227.2500  227.2700      180.0\n",
              "2025-02-07 19:56:00  227.2800   227.30  227.2500  227.2800      311.0\n",
              "2025-02-07 19:55:00  227.2900   227.30  227.2511  227.2900       72.0\n",
              "...                       ...      ...       ...       ...        ...\n",
              "2025-01-10 04:04:00  242.2600   242.27  242.1300  242.2300      644.0\n",
              "2025-01-10 04:03:00  242.2100   242.28  242.1400  242.2600      615.0\n",
              "2025-01-10 04:02:00  241.8800   242.22  241.8800  242.2100     1191.0\n",
              "2025-01-10 04:01:00  242.2200   242.28  241.8200  241.9800     1030.0\n",
              "2025-01-10 04:00:00  243.4400   244.00  241.6700  242.2200     4980.0\n",
              "\n",
              "[19179 rows x 5 columns]"
            ],
            "text/html": [
              "\n",
              "  <div id=\"df-d7580d38-58d2-43f0-9ef6-12614b3f0442\" class=\"colab-df-container\">\n",
              "    <div>\n",
              "<style scoped>\n",
              "    .dataframe tbody tr th:only-of-type {\n",
              "        vertical-align: middle;\n",
              "    }\n",
              "\n",
              "    .dataframe tbody tr th {\n",
              "        vertical-align: top;\n",
              "    }\n",
              "\n",
              "    .dataframe thead th {\n",
              "        text-align: right;\n",
              "    }\n",
              "</style>\n",
              "<table border=\"1\" class=\"dataframe\">\n",
              "  <thead>\n",
              "    <tr style=\"text-align: right;\">\n",
              "      <th></th>\n",
              "      <th>1. open</th>\n",
              "      <th>2. high</th>\n",
              "      <th>3. low</th>\n",
              "      <th>4. close</th>\n",
              "      <th>5. volume</th>\n",
              "    </tr>\n",
              "    <tr>\n",
              "      <th>date</th>\n",
              "      <th></th>\n",
              "      <th></th>\n",
              "      <th></th>\n",
              "      <th></th>\n",
              "      <th></th>\n",
              "    </tr>\n",
              "  </thead>\n",
              "  <tbody>\n",
              "    <tr>\n",
              "      <th>2025-02-07 19:59:00</th>\n",
              "      <td>227.2698</td>\n",
              "      <td>227.29</td>\n",
              "      <td>227.2500</td>\n",
              "      <td>227.2889</td>\n",
              "      <td>1736.0</td>\n",
              "    </tr>\n",
              "    <tr>\n",
              "      <th>2025-02-07 19:58:00</th>\n",
              "      <td>227.2700</td>\n",
              "      <td>227.27</td>\n",
              "      <td>227.2500</td>\n",
              "      <td>227.2700</td>\n",
              "      <td>568.0</td>\n",
              "    </tr>\n",
              "    <tr>\n",
              "      <th>2025-02-07 19:57:00</th>\n",
              "      <td>227.2750</td>\n",
              "      <td>227.29</td>\n",
              "      <td>227.2500</td>\n",
              "      <td>227.2700</td>\n",
              "      <td>180.0</td>\n",
              "    </tr>\n",
              "    <tr>\n",
              "      <th>2025-02-07 19:56:00</th>\n",
              "      <td>227.2800</td>\n",
              "      <td>227.30</td>\n",
              "      <td>227.2500</td>\n",
              "      <td>227.2800</td>\n",
              "      <td>311.0</td>\n",
              "    </tr>\n",
              "    <tr>\n",
              "      <th>2025-02-07 19:55:00</th>\n",
              "      <td>227.2900</td>\n",
              "      <td>227.30</td>\n",
              "      <td>227.2511</td>\n",
              "      <td>227.2900</td>\n",
              "      <td>72.0</td>\n",
              "    </tr>\n",
              "    <tr>\n",
              "      <th>...</th>\n",
              "      <td>...</td>\n",
              "      <td>...</td>\n",
              "      <td>...</td>\n",
              "      <td>...</td>\n",
              "      <td>...</td>\n",
              "    </tr>\n",
              "    <tr>\n",
              "      <th>2025-01-10 04:04:00</th>\n",
              "      <td>242.2600</td>\n",
              "      <td>242.27</td>\n",
              "      <td>242.1300</td>\n",
              "      <td>242.2300</td>\n",
              "      <td>644.0</td>\n",
              "    </tr>\n",
              "    <tr>\n",
              "      <th>2025-01-10 04:03:00</th>\n",
              "      <td>242.2100</td>\n",
              "      <td>242.28</td>\n",
              "      <td>242.1400</td>\n",
              "      <td>242.2600</td>\n",
              "      <td>615.0</td>\n",
              "    </tr>\n",
              "    <tr>\n",
              "      <th>2025-01-10 04:02:00</th>\n",
              "      <td>241.8800</td>\n",
              "      <td>242.22</td>\n",
              "      <td>241.8800</td>\n",
              "      <td>242.2100</td>\n",
              "      <td>1191.0</td>\n",
              "    </tr>\n",
              "    <tr>\n",
              "      <th>2025-01-10 04:01:00</th>\n",
              "      <td>242.2200</td>\n",
              "      <td>242.28</td>\n",
              "      <td>241.8200</td>\n",
              "      <td>241.9800</td>\n",
              "      <td>1030.0</td>\n",
              "    </tr>\n",
              "    <tr>\n",
              "      <th>2025-01-10 04:00:00</th>\n",
              "      <td>243.4400</td>\n",
              "      <td>244.00</td>\n",
              "      <td>241.6700</td>\n",
              "      <td>242.2200</td>\n",
              "      <td>4980.0</td>\n",
              "    </tr>\n",
              "  </tbody>\n",
              "</table>\n",
              "<p>19179 rows × 5 columns</p>\n",
              "</div>\n",
              "    <div class=\"colab-df-buttons\">\n",
              "\n",
              "  <div class=\"colab-df-container\">\n",
              "    <button class=\"colab-df-convert\" onclick=\"convertToInteractive('df-d7580d38-58d2-43f0-9ef6-12614b3f0442')\"\n",
              "            title=\"Convert this dataframe to an interactive table.\"\n",
              "            style=\"display:none;\">\n",
              "\n",
              "  <svg xmlns=\"http://www.w3.org/2000/svg\" height=\"24px\" viewBox=\"0 -960 960 960\">\n",
              "    <path d=\"M120-120v-720h720v720H120Zm60-500h600v-160H180v160Zm220 220h160v-160H400v160Zm0 220h160v-160H400v160ZM180-400h160v-160H180v160Zm440 0h160v-160H620v160ZM180-180h160v-160H180v160Zm440 0h160v-160H620v160Z\"/>\n",
              "  </svg>\n",
              "    </button>\n",
              "\n",
              "  <style>\n",
              "    .colab-df-container {\n",
              "      display:flex;\n",
              "      gap: 12px;\n",
              "    }\n",
              "\n",
              "    .colab-df-convert {\n",
              "      background-color: #E8F0FE;\n",
              "      border: none;\n",
              "      border-radius: 50%;\n",
              "      cursor: pointer;\n",
              "      display: none;\n",
              "      fill: #1967D2;\n",
              "      height: 32px;\n",
              "      padding: 0 0 0 0;\n",
              "      width: 32px;\n",
              "    }\n",
              "\n",
              "    .colab-df-convert:hover {\n",
              "      background-color: #E2EBFA;\n",
              "      box-shadow: 0px 1px 2px rgba(60, 64, 67, 0.3), 0px 1px 3px 1px rgba(60, 64, 67, 0.15);\n",
              "      fill: #174EA6;\n",
              "    }\n",
              "\n",
              "    .colab-df-buttons div {\n",
              "      margin-bottom: 4px;\n",
              "    }\n",
              "\n",
              "    [theme=dark] .colab-df-convert {\n",
              "      background-color: #3B4455;\n",
              "      fill: #D2E3FC;\n",
              "    }\n",
              "\n",
              "    [theme=dark] .colab-df-convert:hover {\n",
              "      background-color: #434B5C;\n",
              "      box-shadow: 0px 1px 3px 1px rgba(0, 0, 0, 0.15);\n",
              "      filter: drop-shadow(0px 1px 2px rgba(0, 0, 0, 0.3));\n",
              "      fill: #FFFFFF;\n",
              "    }\n",
              "  </style>\n",
              "\n",
              "    <script>\n",
              "      const buttonEl =\n",
              "        document.querySelector('#df-d7580d38-58d2-43f0-9ef6-12614b3f0442 button.colab-df-convert');\n",
              "      buttonEl.style.display =\n",
              "        google.colab.kernel.accessAllowed ? 'block' : 'none';\n",
              "\n",
              "      async function convertToInteractive(key) {\n",
              "        const element = document.querySelector('#df-d7580d38-58d2-43f0-9ef6-12614b3f0442');\n",
              "        const dataTable =\n",
              "          await google.colab.kernel.invokeFunction('convertToInteractive',\n",
              "                                                    [key], {});\n",
              "        if (!dataTable) return;\n",
              "\n",
              "        const docLinkHtml = 'Like what you see? Visit the ' +\n",
              "          '<a target=\"_blank\" href=https://colab.research.google.com/notebooks/data_table.ipynb>data table notebook</a>'\n",
              "          + ' to learn more about interactive tables.';\n",
              "        element.innerHTML = '';\n",
              "        dataTable['output_type'] = 'display_data';\n",
              "        await google.colab.output.renderOutput(dataTable, element);\n",
              "        const docLink = document.createElement('div');\n",
              "        docLink.innerHTML = docLinkHtml;\n",
              "        element.appendChild(docLink);\n",
              "      }\n",
              "    </script>\n",
              "  </div>\n",
              "\n",
              "\n",
              "<div id=\"df-f772ef2f-0c94-4b1c-93d9-730cda477a58\">\n",
              "  <button class=\"colab-df-quickchart\" onclick=\"quickchart('df-f772ef2f-0c94-4b1c-93d9-730cda477a58')\"\n",
              "            title=\"Suggest charts\"\n",
              "            style=\"display:none;\">\n",
              "\n",
              "<svg xmlns=\"http://www.w3.org/2000/svg\" height=\"24px\"viewBox=\"0 0 24 24\"\n",
              "     width=\"24px\">\n",
              "    <g>\n",
              "        <path d=\"M19 3H5c-1.1 0-2 .9-2 2v14c0 1.1.9 2 2 2h14c1.1 0 2-.9 2-2V5c0-1.1-.9-2-2-2zM9 17H7v-7h2v7zm4 0h-2V7h2v10zm4 0h-2v-4h2v4z\"/>\n",
              "    </g>\n",
              "</svg>\n",
              "  </button>\n",
              "\n",
              "<style>\n",
              "  .colab-df-quickchart {\n",
              "      --bg-color: #E8F0FE;\n",
              "      --fill-color: #1967D2;\n",
              "      --hover-bg-color: #E2EBFA;\n",
              "      --hover-fill-color: #174EA6;\n",
              "      --disabled-fill-color: #AAA;\n",
              "      --disabled-bg-color: #DDD;\n",
              "  }\n",
              "\n",
              "  [theme=dark] .colab-df-quickchart {\n",
              "      --bg-color: #3B4455;\n",
              "      --fill-color: #D2E3FC;\n",
              "      --hover-bg-color: #434B5C;\n",
              "      --hover-fill-color: #FFFFFF;\n",
              "      --disabled-bg-color: #3B4455;\n",
              "      --disabled-fill-color: #666;\n",
              "  }\n",
              "\n",
              "  .colab-df-quickchart {\n",
              "    background-color: var(--bg-color);\n",
              "    border: none;\n",
              "    border-radius: 50%;\n",
              "    cursor: pointer;\n",
              "    display: none;\n",
              "    fill: var(--fill-color);\n",
              "    height: 32px;\n",
              "    padding: 0;\n",
              "    width: 32px;\n",
              "  }\n",
              "\n",
              "  .colab-df-quickchart:hover {\n",
              "    background-color: var(--hover-bg-color);\n",
              "    box-shadow: 0 1px 2px rgba(60, 64, 67, 0.3), 0 1px 3px 1px rgba(60, 64, 67, 0.15);\n",
              "    fill: var(--button-hover-fill-color);\n",
              "  }\n",
              "\n",
              "  .colab-df-quickchart-complete:disabled,\n",
              "  .colab-df-quickchart-complete:disabled:hover {\n",
              "    background-color: var(--disabled-bg-color);\n",
              "    fill: var(--disabled-fill-color);\n",
              "    box-shadow: none;\n",
              "  }\n",
              "\n",
              "  .colab-df-spinner {\n",
              "    border: 2px solid var(--fill-color);\n",
              "    border-color: transparent;\n",
              "    border-bottom-color: var(--fill-color);\n",
              "    animation:\n",
              "      spin 1s steps(1) infinite;\n",
              "  }\n",
              "\n",
              "  @keyframes spin {\n",
              "    0% {\n",
              "      border-color: transparent;\n",
              "      border-bottom-color: var(--fill-color);\n",
              "      border-left-color: var(--fill-color);\n",
              "    }\n",
              "    20% {\n",
              "      border-color: transparent;\n",
              "      border-left-color: var(--fill-color);\n",
              "      border-top-color: var(--fill-color);\n",
              "    }\n",
              "    30% {\n",
              "      border-color: transparent;\n",
              "      border-left-color: var(--fill-color);\n",
              "      border-top-color: var(--fill-color);\n",
              "      border-right-color: var(--fill-color);\n",
              "    }\n",
              "    40% {\n",
              "      border-color: transparent;\n",
              "      border-right-color: var(--fill-color);\n",
              "      border-top-color: var(--fill-color);\n",
              "    }\n",
              "    60% {\n",
              "      border-color: transparent;\n",
              "      border-right-color: var(--fill-color);\n",
              "    }\n",
              "    80% {\n",
              "      border-color: transparent;\n",
              "      border-right-color: var(--fill-color);\n",
              "      border-bottom-color: var(--fill-color);\n",
              "    }\n",
              "    90% {\n",
              "      border-color: transparent;\n",
              "      border-bottom-color: var(--fill-color);\n",
              "    }\n",
              "  }\n",
              "</style>\n",
              "\n",
              "  <script>\n",
              "    async function quickchart(key) {\n",
              "      const quickchartButtonEl =\n",
              "        document.querySelector('#' + key + ' button');\n",
              "      quickchartButtonEl.disabled = true;  // To prevent multiple clicks.\n",
              "      quickchartButtonEl.classList.add('colab-df-spinner');\n",
              "      try {\n",
              "        const charts = await google.colab.kernel.invokeFunction(\n",
              "            'suggestCharts', [key], {});\n",
              "      } catch (error) {\n",
              "        console.error('Error during call to suggestCharts:', error);\n",
              "      }\n",
              "      quickchartButtonEl.classList.remove('colab-df-spinner');\n",
              "      quickchartButtonEl.classList.add('colab-df-quickchart-complete');\n",
              "    }\n",
              "    (() => {\n",
              "      let quickchartButtonEl =\n",
              "        document.querySelector('#df-f772ef2f-0c94-4b1c-93d9-730cda477a58 button');\n",
              "      quickchartButtonEl.style.display =\n",
              "        google.colab.kernel.accessAllowed ? 'block' : 'none';\n",
              "    })();\n",
              "  </script>\n",
              "</div>\n",
              "\n",
              "  <div id=\"id_bb2cce29-fed2-4d5c-a381-9a39f2826b9c\">\n",
              "    <style>\n",
              "      .colab-df-generate {\n",
              "        background-color: #E8F0FE;\n",
              "        border: none;\n",
              "        border-radius: 50%;\n",
              "        cursor: pointer;\n",
              "        display: none;\n",
              "        fill: #1967D2;\n",
              "        height: 32px;\n",
              "        padding: 0 0 0 0;\n",
              "        width: 32px;\n",
              "      }\n",
              "\n",
              "      .colab-df-generate:hover {\n",
              "        background-color: #E2EBFA;\n",
              "        box-shadow: 0px 1px 2px rgba(60, 64, 67, 0.3), 0px 1px 3px 1px rgba(60, 64, 67, 0.15);\n",
              "        fill: #174EA6;\n",
              "      }\n",
              "\n",
              "      [theme=dark] .colab-df-generate {\n",
              "        background-color: #3B4455;\n",
              "        fill: #D2E3FC;\n",
              "      }\n",
              "\n",
              "      [theme=dark] .colab-df-generate:hover {\n",
              "        background-color: #434B5C;\n",
              "        box-shadow: 0px 1px 3px 1px rgba(0, 0, 0, 0.15);\n",
              "        filter: drop-shadow(0px 1px 2px rgba(0, 0, 0, 0.3));\n",
              "        fill: #FFFFFF;\n",
              "      }\n",
              "    </style>\n",
              "    <button class=\"colab-df-generate\" onclick=\"generateWithVariable('data')\"\n",
              "            title=\"Generate code using this dataframe.\"\n",
              "            style=\"display:none;\">\n",
              "\n",
              "  <svg xmlns=\"http://www.w3.org/2000/svg\" height=\"24px\"viewBox=\"0 0 24 24\"\n",
              "       width=\"24px\">\n",
              "    <path d=\"M7,19H8.4L18.45,9,17,7.55,7,17.6ZM5,21V16.75L18.45,3.32a2,2,0,0,1,2.83,0l1.4,1.43a1.91,1.91,0,0,1,.58,1.4,1.91,1.91,0,0,1-.58,1.4L9.25,21ZM18.45,9,17,7.55Zm-12,3A5.31,5.31,0,0,0,4.9,8.1,5.31,5.31,0,0,0,1,6.5,5.31,5.31,0,0,0,4.9,4.9,5.31,5.31,0,0,0,6.5,1,5.31,5.31,0,0,0,8.1,4.9,5.31,5.31,0,0,0,12,6.5,5.46,5.46,0,0,0,6.5,12Z\"/>\n",
              "  </svg>\n",
              "    </button>\n",
              "    <script>\n",
              "      (() => {\n",
              "      const buttonEl =\n",
              "        document.querySelector('#id_bb2cce29-fed2-4d5c-a381-9a39f2826b9c button.colab-df-generate');\n",
              "      buttonEl.style.display =\n",
              "        google.colab.kernel.accessAllowed ? 'block' : 'none';\n",
              "\n",
              "      buttonEl.onclick = () => {\n",
              "        google.colab.notebook.generateWithVariable('data');\n",
              "      }\n",
              "      })();\n",
              "    </script>\n",
              "  </div>\n",
              "\n",
              "    </div>\n",
              "  </div>\n"
            ],
            "application/vnd.google.colaboratory.intrinsic+json": {
              "type": "dataframe",
              "variable_name": "data",
              "summary": "{\n  \"name\": \"data\",\n  \"rows\": 19179,\n  \"fields\": [\n    {\n      \"column\": \"date\",\n      \"properties\": {\n        \"dtype\": \"date\",\n        \"min\": \"2025-01-10 04:00:00\",\n        \"max\": \"2025-02-07 19:59:00\",\n        \"num_unique_values\": 19179,\n        \"samples\": [\n          \"2025-01-10 11:36:00\",\n          \"2025-01-29 12:56:00\",\n          \"2025-01-16 05:39:00\"\n        ],\n        \"semantic_type\": \"\",\n        \"description\": \"\"\n      }\n    },\n    {\n      \"column\": \"1. open\",\n      \"properties\": {\n        \"dtype\": \"number\",\n        \"std\": 6.0387521396381025,\n        \"min\": 202.0365,\n        \"max\": 255.27,\n        \"num_unique_values\": 5416,\n        \"samples\": [\n          229.535,\n          233.898,\n          233.47\n        ],\n        \"semantic_type\": \"\",\n        \"description\": \"\"\n      }\n    },\n    {\n      \"column\": \"2. high\",\n      \"properties\": {\n        \"dtype\": \"number\",\n        \"std\": 6.068263268746482,\n        \"min\": 218.67,\n        \"max\": 258.865,\n        \"num_unique_values\": 4552,\n        \"samples\": [\n          232.11,\n          234.13,\n          227.63\n        ],\n        \"semantic_type\": \"\",\n        \"description\": \"\"\n      }\n    },\n    {\n      \"column\": \"3. low\",\n      \"properties\": {\n        \"dtype\": \"number\",\n        \"std\": 6.069939822648037,\n        \"min\": 191.9203,\n        \"max\": 247.95,\n        \"num_unique_values\": 4488,\n        \"samples\": [\n          229.17,\n          234.115,\n          232.4144\n        ],\n        \"semantic_type\": \"\",\n        \"description\": \"\"\n      }\n    },\n    {\n      \"column\": \"4. close\",\n      \"properties\": {\n        \"dtype\": \"number\",\n        \"std\": 6.032431946118626,\n        \"min\": 212.64,\n        \"max\": 248.046,\n        \"num_unique_values\": 5833,\n        \"samples\": [\n          238.5002,\n          233.87,\n          238.55\n        ],\n        \"semantic_type\": \"\",\n        \"description\": \"\"\n      }\n    },\n    {\n      \"column\": \"5. volume\",\n      \"properties\": {\n        \"dtype\": \"number\",\n        \"std\": 629393.8131788493,\n        \"min\": 1.0,\n        \"max\": 30084295.0,\n        \"num_unique_values\": 12352,\n        \"samples\": [\n          3355.0,\n          10098.0,\n          34726.0\n        ],\n        \"semantic_type\": \"\",\n        \"description\": \"\"\n      }\n    }\n  ]\n}"
            }
          },
          "metadata": {},
          "execution_count": 7
        }
      ],
      "source": [
        "data"
      ]
    },
    {
      "cell_type": "markdown",
      "metadata": {
        "id": "wJgplUeaAcaM"
      },
      "source": [
        "**Plotting a column of data**"
      ]
    },
    {
      "cell_type": "code",
      "execution_count": 8,
      "metadata": {
        "colab": {
          "base_uri": "https://localhost:8080/",
          "height": 447
        },
        "id": "yP4l3zk-AiwZ",
        "outputId": "0e35fb39-5beb-4bc1-bee8-30393492ffac"
      },
      "outputs": [
        {
          "output_type": "execute_result",
          "data": {
            "text/plain": [
              "[<matplotlib.lines.Line2D at 0x78815810e310>]"
            ]
          },
          "metadata": {},
          "execution_count": 8
        },
        {
          "output_type": "display_data",
          "data": {
            "text/plain": [
              "<Figure size 640x480 with 1 Axes>"
            ],
            "image/png": "[encoded data removed]"
          },
          "metadata": {}
        }
      ],
      "source": [
        "plt.plot(data['4. close'])"
      ]
    },
    {
      "cell_type": "markdown",
      "metadata": {
        "id": "EvUApGgHGEVW"
      },
      "source": [
        "**Rename and Separate Date and time Columns**"
      ]
    },
    {
      "cell_type": "code",
      "execution_count": 9,
      "metadata": {
        "colab": {
          "base_uri": "https://localhost:8080/",
          "height": 455
        },
        "id": "mSfugm7JGKyz",
        "outputId": "42233bc1-4811-40d8-9b07-5ac7e7982b7e"
      },
      "outputs": [
        {
          "output_type": "execute_result",
          "data": {
            "text/plain": [
              "                      1. open  2. high    3. low  4. close  5. volume  \\\n",
              "date                                                                    \n",
              "2025-02-07 19:59:00  227.2698   227.29  227.2500  227.2889     1736.0   \n",
              "2025-02-07 19:58:00  227.2700   227.27  227.2500  227.2700      568.0   \n",
              "2025-02-07 19:57:00  227.2750   227.29  227.2500  227.2700      180.0   \n",
              "2025-02-07 19:56:00  227.2800   227.30  227.2500  227.2800      311.0   \n",
              "2025-02-07 19:55:00  227.2900   227.30  227.2511  227.2900       72.0   \n",
              "...                       ...      ...       ...       ...        ...   \n",
              "2025-01-10 04:04:00  242.2600   242.27  242.1300  242.2300      644.0   \n",
              "2025-01-10 04:03:00  242.2100   242.28  242.1400  242.2600      615.0   \n",
              "2025-01-10 04:02:00  241.8800   242.22  241.8800  242.2100     1191.0   \n",
              "2025-01-10 04:01:00  242.2200   242.28  241.8200  241.9800     1030.0   \n",
              "2025-01-10 04:00:00  243.4400   244.00  241.6700  242.2200     4980.0   \n",
              "\n",
              "                      Tradedate      Time  \n",
              "date                                       \n",
              "2025-02-07 19:59:00  2025-02-07  19:59:00  \n",
              "2025-02-07 19:58:00  2025-02-07  19:58:00  \n",
              "2025-02-07 19:57:00  2025-02-07  19:57:00  \n",
              "2025-02-07 19:56:00  2025-02-07  19:56:00  \n",
              "2025-02-07 19:55:00  2025-02-07  19:55:00  \n",
              "...                         ...       ...  \n",
              "2025-01-10 04:04:00  2025-01-10  04:04:00  \n",
              "2025-01-10 04:03:00  2025-01-10  04:03:00  \n",
              "2025-01-10 04:02:00  2025-01-10  04:02:00  \n",
              "2025-01-10 04:01:00  2025-01-10  04:01:00  \n",
              "2025-01-10 04:00:00  2025-01-10  04:00:00  \n",
              "\n",
              "[19179 rows x 7 columns]"
            ],
            "text/html": [
              "\n",
              "  <div id=\"df-dbe2626e-534f-4b34-b452-ed87c742dd54\" class=\"colab-df-container\">\n",
              "    <div>\n",
              "<style scoped>\n",
              "    .dataframe tbody tr th:only-of-type {\n",
              "        vertical-align: middle;\n",
              "    }\n",
              "\n",
              "    .dataframe tbody tr th {\n",
              "        vertical-align: top;\n",
              "    }\n",
              "\n",
              "    .dataframe thead th {\n",
              "        text-align: right;\n",
              "    }\n",
              "</style>\n",
              "<table border=\"1\" class=\"dataframe\">\n",
              "  <thead>\n",
              "    <tr style=\"text-align: right;\">\n",
              "      <th></th>\n",
              "      <th>1. open</th>\n",
              "      <th>2. high</th>\n",
              "      <th>3. low</th>\n",
              "      <th>4. close</th>\n",
              "      <th>5. volume</th>\n",
              "      <th>Tradedate</th>\n",
              "      <th>Time</th>\n",
              "    </tr>\n",
              "    <tr>\n",
              "      <th>date</th>\n",
              "      <th></th>\n",
              "      <th></th>\n",
              "      <th></th>\n",
              "      <th></th>\n",
              "      <th></th>\n",
              "      <th></th>\n",
              "      <th></th>\n",
              "    </tr>\n",
              "  </thead>\n",
              "  <tbody>\n",
              "    <tr>\n",
              "      <th>2025-02-07 19:59:00</th>\n",
              "      <td>227.2698</td>\n",
              "      <td>227.29</td>\n",
              "      <td>227.2500</td>\n",
              "      <td>227.2889</td>\n",
              "      <td>1736.0</td>\n",
              "      <td>2025-02-07</td>\n",
              "      <td>19:59:00</td>\n",
              "    </tr>\n",
              "    <tr>\n",
              "      <th>2025-02-07 19:58:00</th>\n",
              "      <td>227.2700</td>\n",
              "      <td>227.27</td>\n",
              "      <td>227.2500</td>\n",
              "      <td>227.2700</td>\n",
              "      <td>568.0</td>\n",
              "      <td>2025-02-07</td>\n",
              "      <td>19:58:00</td>\n",
              "    </tr>\n",
              "    <tr>\n",
              "      <th>2025-02-07 19:57:00</th>\n",
              "      <td>227.2750</td>\n",
              "      <td>227.29</td>\n",
              "      <td>227.2500</td>\n",
              "      <td>227.2700</td>\n",
              "      <td>180.0</td>\n",
              "      <td>2025-02-07</td>\n",
              "      <td>19:57:00</td>\n",
              "    </tr>\n",
              "    <tr>\n",
              "      <th>2025-02-07 19:56:00</th>\n",
              "      <td>227.2800</td>\n",
              "      <td>227.30</td>\n",
              "      <td>227.2500</td>\n",
              "      <td>227.2800</td>\n",
              "      <td>311.0</td>\n",
              "      <td>2025-02-07</td>\n",
              "      <td>19:56:00</td>\n",
              "    </tr>\n",
              "    <tr>\n",
              "      <th>2025-02-07 19:55:00</th>\n",
              "      <td>227.2900</td>\n",
              "      <td>227.30</td>\n",
              "      <td>227.2511</td>\n",
              "      <td>227.2900</td>\n",
              "      <td>72.0</td>\n",
              "      <td>2025-02-07</td>\n",
              "      <td>19:55:00</td>\n",
              "    </tr>\n",
              "    <tr>\n",
              "      <th>...</th>\n",
              "      <td>...</td>\n",
              "      <td>...</td>\n",
              "      <td>...</td>\n",
              "      <td>...</td>\n",
              "      <td>...</td>\n",
              "      <td>...</td>\n",
              "      <td>...</td>\n",
              "    </tr>\n",
              "    <tr>\n",
              "      <th>2025-01-10 04:04:00</th>\n",
              "      <td>242.2600</td>\n",
              "      <td>242.27</td>\n",
              "      <td>242.1300</td>\n",
              "      <td>242.2300</td>\n",
              "      <td>644.0</td>\n",
              "      <td>2025-01-10</td>\n",
              "      <td>04:04:00</td>\n",
              "    </tr>\n",
              "    <tr>\n",
              "      <th>2025-01-10 04:03:00</th>\n",
              "      <td>242.2100</td>\n",
              "      <td>242.28</td>\n",
              "      <td>242.1400</td>\n",
              "      <td>242.2600</td>\n",
              "      <td>615.0</td>\n",
              "      <td>2025-01-10</td>\n",
              "      <td>04:03:00</td>\n",
              "    </tr>\n",
              "    <tr>\n",
              "      <th>2025-01-10 04:02:00</th>\n",
              "      <td>241.8800</td>\n",
              "      <td>242.22</td>\n",
              "      <td>241.8800</td>\n",
              "      <td>242.2100</td>\n",
              "      <td>1191.0</td>\n",
              "      <td>2025-01-10</td>\n",
              "      <td>04:02:00</td>\n",
              "    </tr>\n",
              "    <tr>\n",
              "      <th>2025-01-10 04:01:00</th>\n",
              "      <td>242.2200</td>\n",
              "      <td>242.28</td>\n",
              "      <td>241.8200</td>\n",
              "      <td>241.9800</td>\n",
              "      <td>1030.0</td>\n",
              "      <td>2025-01-10</td>\n",
              "      <td>04:01:00</td>\n",
              "    </tr>\n",
              "    <tr>\n",
              "      <th>2025-01-10 04:00:00</th>\n",
              "      <td>243.4400</td>\n",
              "      <td>244.00</td>\n",
              "      <td>241.6700</td>\n",
              "      <td>242.2200</td>\n",
              "      <td>4980.0</td>\n",
              "      <td>2025-01-10</td>\n",
              "      <td>04:00:00</td>\n",
              "    </tr>\n",
              "  </tbody>\n",
              "</table>\n",
              "<p>19179 rows × 7 columns</p>\n",
              "</div>\n",
              "    <div class=\"colab-df-buttons\">\n",
              "\n",
              "  <div class=\"colab-df-container\">\n",
              "    <button class=\"colab-df-convert\" onclick=\"convertToInteractive('df-dbe2626e-534f-4b34-b452-ed87c742dd54')\"\n",
              "            title=\"Convert this dataframe to an interactive table.\"\n",
              "            style=\"display:none;\">\n",
              "\n",
              "  <svg xmlns=\"http://www.w3.org/2000/svg\" height=\"24px\" viewBox=\"0 -960 960 960\">\n",
              "    <path d=\"M120-120v-720h720v720H120Zm60-500h600v-160H180v160Zm220 220h160v-160H400v160Zm0 220h160v-160H400v160ZM180-400h160v-160H180v160Zm440 0h160v-160H620v160ZM180-180h160v-160H180v160Zm440 0h160v-160H620v160Z\"/>\n",
              "  </svg>\n",
              "    </button>\n",
              "\n",
              "  <style>\n",
              "    .colab-df-container {\n",
              "      display:flex;\n",
              "      gap: 12px;\n",
              "    }\n",
              "\n",
              "    .colab-df-convert {\n",
              "      background-color: #E8F0FE;\n",
              "      border: none;\n",
              "      border-radius: 50%;\n",
              "      cursor: pointer;\n",
              "      display: none;\n",
              "      fill: #1967D2;\n",
              "      height: 32px;\n",
              "      padding: 0 0 0 0;\n",
              "      width: 32px;\n",
              "    }\n",
              "\n",
              "    .colab-df-convert:hover {\n",
              "      background-color: #E2EBFA;\n",
              "      box-shadow: 0px 1px 2px rgba(60, 64, 67, 0.3), 0px 1px 3px 1px rgba(60, 64, 67, 0.15);\n",
              "      fill: #174EA6;\n",
              "    }\n",
              "\n",
              "    .colab-df-buttons div {\n",
              "      margin-bottom: 4px;\n",
              "    }\n",
              "\n",
              "    [theme=dark] .colab-df-convert {\n",
              "      background-color: #3B4455;\n",
              "      fill: #D2E3FC;\n",
              "    }\n",
              "\n",
              "    [theme=dark] .colab-df-convert:hover {\n",
              "      background-color: #434B5C;\n",
              "      box-shadow: 0px 1px 3px 1px rgba(0, 0, 0, 0.15);\n",
              "      filter: drop-shadow(0px 1px 2px rgba(0, 0, 0, 0.3));\n",
              "      fill: #FFFFFF;\n",
              "    }\n",
              "  </style>\n",
              "\n",
              "    <script>\n",
              "      const buttonEl =\n",
              "        document.querySelector('#df-dbe2626e-534f-4b34-b452-ed87c742dd54 button.colab-df-convert');\n",
              "      buttonEl.style.display =\n",
              "        google.colab.kernel.accessAllowed ? 'block' : 'none';\n",
              "\n",
              "      async function convertToInteractive(key) {\n",
              "        const element = document.querySelector('#df-dbe2626e-534f-4b34-b452-ed87c742dd54');\n",
              "        const dataTable =\n",
              "          await google.colab.kernel.invokeFunction('convertToInteractive',\n",
              "                                                    [key], {});\n",
              "        if (!dataTable) return;\n",
              "\n",
              "        const docLinkHtml = 'Like what you see? Visit the ' +\n",
              "          '<a target=\"_blank\" href=https://colab.research.google.com/notebooks/data_table.ipynb>data table notebook</a>'\n",
              "          + ' to learn more about interactive tables.';\n",
              "        element.innerHTML = '';\n",
              "        dataTable['output_type'] = 'display_data';\n",
              "        await google.colab.output.renderOutput(dataTable, element);\n",
              "        const docLink = document.createElement('div');\n",
              "        docLink.innerHTML = docLinkHtml;\n",
              "        element.appendChild(docLink);\n",
              "      }\n",
              "    </script>\n",
              "  </div>\n",
              "\n",
              "\n",
              "<div id=\"df-9183d88e-cc53-4820-b69a-a26b133c4ca3\">\n",
              "  <button class=\"colab-df-quickchart\" onclick=\"quickchart('df-9183d88e-cc53-4820-b69a-a26b133c4ca3')\"\n",
              "            title=\"Suggest charts\"\n",
              "            style=\"display:none;\">\n",
              "\n",
              "<svg xmlns=\"http://www.w3.org/2000/svg\" height=\"24px\"viewBox=\"0 0 24 24\"\n",
              "     width=\"24px\">\n",
              "    <g>\n",
              "        <path d=\"M19 3H5c-1.1 0-2 .9-2 2v14c0 1.1.9 2 2 2h14c1.1 0 2-.9 2-2V5c0-1.1-.9-2-2-2zM9 17H7v-7h2v7zm4 0h-2V7h2v10zm4 0h-2v-4h2v4z\"/>\n",
              "    </g>\n",
              "</svg>\n",
              "  </button>\n",
              "\n",
              "<style>\n",
              "  .colab-df-quickchart {\n",
              "      --bg-color: #E8F0FE;\n",
              "      --fill-color: #1967D2;\n",
              "      --hover-bg-color: #E2EBFA;\n",
              "      --hover-fill-color: #174EA6;\n",
              "      --disabled-fill-color: #AAA;\n",
              "      --disabled-bg-color: #DDD;\n",
              "  }\n",
              "\n",
              "  [theme=dark] .colab-df-quickchart {\n",
              "      --bg-color: #3B4455;\n",
              "      --fill-color: #D2E3FC;\n",
              "      --hover-bg-color: #434B5C;\n",
              "      --hover-fill-color: #FFFFFF;\n",
              "      --disabled-bg-color: #3B4455;\n",
              "      --disabled-fill-color: #666;\n",
              "  }\n",
              "\n",
              "  .colab-df-quickchart {\n",
              "    background-color: var(--bg-color);\n",
              "    border: none;\n",
              "    border-radius: 50%;\n",
              "    cursor: pointer;\n",
              "    display: none;\n",
              "    fill: var(--fill-color);\n",
              "    height: 32px;\n",
              "    padding: 0;\n",
              "    width: 32px;\n",
              "  }\n",
              "\n",
              "  .colab-df-quickchart:hover {\n",
              "    background-color: var(--hover-bg-color);\n",
              "    box-shadow: 0 1px 2px rgba(60, 64, 67, 0.3), 0 1px 3px 1px rgba(60, 64, 67, 0.15);\n",
              "    fill: var(--button-hover-fill-color);\n",
              "  }\n",
              "\n",
              "  .colab-df-quickchart-complete:disabled,\n",
              "  .colab-df-quickchart-complete:disabled:hover {\n",
              "    background-color: var(--disabled-bg-color);\n",
              "    fill: var(--disabled-fill-color);\n",
              "    box-shadow: none;\n",
              "  }\n",
              "\n",
              "  .colab-df-spinner {\n",
              "    border: 2px solid var(--fill-color);\n",
              "    border-color: transparent;\n",
              "    border-bottom-color: var(--fill-color);\n",
              "    animation:\n",
              "      spin 1s steps(1) infinite;\n",
              "  }\n",
              "\n",
              "  @keyframes spin {\n",
              "    0% {\n",
              "      border-color: transparent;\n",
              "      border-bottom-color: var(--fill-color);\n",
              "      border-left-color: var(--fill-color);\n",
              "    }\n",
              "    20% {\n",
              "      border-color: transparent;\n",
              "      border-left-color: var(--fill-color);\n",
              "      border-top-color: var(--fill-color);\n",
              "    }\n",
              "    30% {\n",
              "      border-color: transparent;\n",
              "      border-left-color: var(--fill-color);\n",
              "      border-top-color: var(--fill-color);\n",
              "      border-right-color: var(--fill-color);\n",
              "    }\n",
              "    40% {\n",
              "      border-color: transparent;\n",
              "      border-right-color: var(--fill-color);\n",
              "      border-top-color: var(--fill-color);\n",
              "    }\n",
              "    60% {\n",
              "      border-color: transparent;\n",
              "      border-right-color: var(--fill-color);\n",
              "    }\n",
              "    80% {\n",
              "      border-color: transparent;\n",
              "      border-right-color: var(--fill-color);\n",
              "      border-bottom-color: var(--fill-color);\n",
              "    }\n",
              "    90% {\n",
              "      border-color: transparent;\n",
              "      border-bottom-color: var(--fill-color);\n",
              "    }\n",
              "  }\n",
              "</style>\n",
              "\n",
              "  <script>\n",
              "    async function quickchart(key) {\n",
              "      const quickchartButtonEl =\n",
              "        document.querySelector('#' + key + ' button');\n",
              "      quickchartButtonEl.disabled = true;  // To prevent multiple clicks.\n",
              "      quickchartButtonEl.classList.add('colab-df-spinner');\n",
              "      try {\n",
              "        const charts = await google.colab.kernel.invokeFunction(\n",
              "            'suggestCharts', [key], {});\n",
              "      } catch (error) {\n",
              "        console.error('Error during call to suggestCharts:', error);\n",
              "      }\n",
              "      quickchartButtonEl.classList.remove('colab-df-spinner');\n",
              "      quickchartButtonEl.classList.add('colab-df-quickchart-complete');\n",
              "    }\n",
              "    (() => {\n",
              "      let quickchartButtonEl =\n",
              "        document.querySelector('#df-9183d88e-cc53-4820-b69a-a26b133c4ca3 button');\n",
              "      quickchartButtonEl.style.display =\n",
              "        google.colab.kernel.accessAllowed ? 'block' : 'none';\n",
              "    })();\n",
              "  </script>\n",
              "</div>\n",
              "\n",
              "  <div id=\"id_00168f43-515e-4562-901d-1465d789c095\">\n",
              "    <style>\n",
              "      .colab-df-generate {\n",
              "        background-color: #E8F0FE;\n",
              "        border: none;\n",
              "        border-radius: 50%;\n",
              "        cursor: pointer;\n",
              "        display: none;\n",
              "        fill: #1967D2;\n",
              "        height: 32px;\n",
              "        padding: 0 0 0 0;\n",
              "        width: 32px;\n",
              "      }\n",
              "\n",
              "      .colab-df-generate:hover {\n",
              "        background-color: #E2EBFA;\n",
              "        box-shadow: 0px 1px 2px rgba(60, 64, 67, 0.3), 0px 1px 3px 1px rgba(60, 64, 67, 0.15);\n",
              "        fill: #174EA6;\n",
              "      }\n",
              "\n",
              "      [theme=dark] .colab-df-generate {\n",
              "        background-color: #3B4455;\n",
              "        fill: #D2E3FC;\n",
              "      }\n",
              "\n",
              "      [theme=dark] .colab-df-generate:hover {\n",
              "        background-color: #434B5C;\n",
              "        box-shadow: 0px 1px 3px 1px rgba(0, 0, 0, 0.15);\n",
              "        filter: drop-shadow(0px 1px 2px rgba(0, 0, 0, 0.3));\n",
              "        fill: #FFFFFF;\n",
              "      }\n",
              "    </style>\n",
              "    <button class=\"colab-df-generate\" onclick=\"generateWithVariable('data')\"\n",
              "            title=\"Generate code using this dataframe.\"\n",
              "            style=\"display:none;\">\n",
              "\n",
              "  <svg xmlns=\"http://www.w3.org/2000/svg\" height=\"24px\"viewBox=\"0 0 24 24\"\n",
              "       width=\"24px\">\n",
              "    <path d=\"M7,19H8.4L18.45,9,17,7.55,7,17.6ZM5,21V16.75L18.45,3.32a2,2,0,0,1,2.83,0l1.4,1.43a1.91,1.91,0,0,1,.58,1.4,1.91,1.91,0,0,1-.58,1.4L9.25,21ZM18.45,9,17,7.55Zm-12,3A5.31,5.31,0,0,0,4.9,8.1,5.31,5.31,0,0,0,1,6.5,5.31,5.31,0,0,0,4.9,4.9,5.31,5.31,0,0,0,6.5,1,5.31,5.31,0,0,0,8.1,4.9,5.31,5.31,0,0,0,12,6.5,5.46,5.46,0,0,0,6.5,12Z\"/>\n",
              "  </svg>\n",
              "    </button>\n",
              "    <script>\n",
              "      (() => {\n",
              "      const buttonEl =\n",
              "        document.querySelector('#id_00168f43-515e-4562-901d-1465d789c095 button.colab-df-generate');\n",
              "      buttonEl.style.display =\n",
              "        google.colab.kernel.accessAllowed ? 'block' : 'none';\n",
              "\n",
              "      buttonEl.onclick = () => {\n",
              "        google.colab.notebook.generateWithVariable('data');\n",
              "      }\n",
              "      })();\n",
              "    </script>\n",
              "  </div>\n",
              "\n",
              "    </div>\n",
              "  </div>\n"
            ],
            "application/vnd.google.colaboratory.intrinsic+json": {
              "type": "dataframe",
              "variable_name": "data",
              "summary": "{\n  \"name\": \"data\",\n  \"rows\": 19179,\n  \"fields\": [\n    {\n      \"column\": \"date\",\n      \"properties\": {\n        \"dtype\": \"date\",\n        \"min\": \"2025-01-10 04:00:00\",\n        \"max\": \"2025-02-07 19:59:00\",\n        \"num_unique_values\": 19179,\n        \"samples\": [\n          \"2025-01-10 11:36:00\",\n          \"2025-01-29 12:56:00\",\n          \"2025-01-16 05:39:00\"\n        ],\n        \"semantic_type\": \"\",\n        \"description\": \"\"\n      }\n    },\n    {\n      \"column\": \"1. open\",\n      \"properties\": {\n        \"dtype\": \"number\",\n        \"std\": 6.0387521396381025,\n        \"min\": 202.0365,\n        \"max\": 255.27,\n        \"num_unique_values\": 5416,\n        \"samples\": [\n          229.535,\n          233.898,\n          233.47\n        ],\n        \"semantic_type\": \"\",\n        \"description\": \"\"\n      }\n    },\n    {\n      \"column\": \"2. high\",\n      \"properties\": {\n        \"dtype\": \"number\",\n        \"std\": 6.068263268746482,\n        \"min\": 218.67,\n        \"max\": 258.865,\n        \"num_unique_values\": 4552,\n        \"samples\": [\n          232.11,\n          234.13,\n          227.63\n        ],\n        \"semantic_type\": \"\",\n        \"description\": \"\"\n      }\n    },\n    {\n      \"column\": \"3. low\",\n      \"properties\": {\n        \"dtype\": \"number\",\n        \"std\": 6.069939822648037,\n        \"min\": 191.9203,\n        \"max\": 247.95,\n        \"num_unique_values\": 4488,\n        \"samples\": [\n          229.17,\n          234.115,\n          232.4144\n        ],\n        \"semantic_type\": \"\",\n        \"description\": \"\"\n      }\n    },\n    {\n      \"column\": \"4. close\",\n      \"properties\": {\n        \"dtype\": \"number\",\n        \"std\": 6.032431946118626,\n        \"min\": 212.64,\n        \"max\": 248.046,\n        \"num_unique_values\": 5833,\n        \"samples\": [\n          238.5002,\n          233.87,\n          238.55\n        ],\n        \"semantic_type\": \"\",\n        \"description\": \"\"\n      }\n    },\n    {\n      \"column\": \"5. volume\",\n      \"properties\": {\n        \"dtype\": \"number\",\n        \"std\": 629393.8131788493,\n        \"min\": 1.0,\n        \"max\": 30084295.0,\n        \"num_unique_values\": 12352,\n        \"samples\": [\n          3355.0,\n          10098.0,\n          34726.0\n        ],\n        \"semantic_type\": \"\",\n        \"description\": \"\"\n      }\n    },\n    {\n      \"column\": \"Tradedate\",\n      \"properties\": {\n        \"dtype\": \"date\",\n        \"min\": \"2025-01-10\",\n        \"max\": \"2025-02-07\",\n        \"num_unique_values\": 20,\n        \"samples\": [\n          \"2025-02-07\",\n          \"2025-01-14\",\n          \"2025-01-16\"\n        ],\n        \"semantic_type\": \"\",\n        \"description\": \"\"\n      }\n    },\n    {\n      \"column\": \"Time\",\n      \"properties\": {\n        \"dtype\": \"category\",\n        \"num_unique_values\": 960,\n        \"samples\": [\n          \"06:00:00\",\n          \"12:02:00\",\n          \"14:09:00\"\n        ],\n        \"semantic_type\": \"\",\n        \"description\": \"\"\n      }\n    }\n  ]\n}"
            }
          },
          "metadata": {},
          "execution_count": 9
        }
      ],
      "source": [
        "columns=['open','high','low','close','volume']\n",
        "\n",
        "#index is still kept the same only the  data is two separate columns are created\n",
        "\n",
        "data['Tradedate']=data.index.date\n",
        "data['Time']=data.index.time\n",
        "data\n",
        "\n"
      ]
    },
    {
      "cell_type": "markdown",
      "metadata": {
        "id": "JHoZoUWlPsOl"
      },
      "source": [
        "**Getting the required data**"
      ]
    },
    {
      "cell_type": "code",
      "execution_count": 10,
      "metadata": {
        "colab": {
          "base_uri": "https://localhost:8080/"
        },
        "id": "-TIs3O4qID2D",
        "outputId": "3475bcc5-4b57-4052-b295-1bb8d6fb43fc"
      },
      "outputs": [
        {
          "output_type": "stream",
          "name": "stdout",
          "text": [
            "                     1. open  2. high    3. low  4. close   5. volume  \\\n",
            "date                                                                    \n",
            "2025-02-07 16:00:00  227.710  227.835  227.5600  227.6300  10887301.0   \n",
            "2025-02-07 15:59:00  227.685  227.790  227.5600  227.7100    919231.0   \n",
            "2025-02-07 15:58:00  227.780  227.800  227.6300  227.6850    278470.0   \n",
            "2025-02-07 15:57:00  227.780  227.850  227.7050  227.7900    222398.0   \n",
            "2025-02-07 15:56:00  227.670  227.830  227.6200  227.7700    240677.0   \n",
            "...                      ...      ...       ...       ...         ...   \n",
            "2025-01-10 09:34:00  238.930  239.100  238.0000  238.3600    494986.0   \n",
            "2025-01-10 09:33:00  238.490  239.000  238.3701  238.9200    260998.0   \n",
            "2025-01-10 09:32:00  238.990  239.340  238.2700  238.4900    294893.0   \n",
            "2025-01-10 09:31:00  239.960  240.160  238.5300  238.9512    500238.0   \n",
            "2025-01-10 09:30:00  240.010  240.150  239.0200  239.9650   1847423.0   \n",
            "\n",
            "                      Tradedate      Time  \n",
            "date                                       \n",
            "2025-02-07 16:00:00  2025-02-07  16:00:00  \n",
            "2025-02-07 15:59:00  2025-02-07  15:59:00  \n",
            "2025-02-07 15:58:00  2025-02-07  15:58:00  \n",
            "2025-02-07 15:57:00  2025-02-07  15:57:00  \n",
            "2025-02-07 15:56:00  2025-02-07  15:56:00  \n",
            "...                         ...       ...  \n",
            "2025-01-10 09:34:00  2025-01-10  09:34:00  \n",
            "2025-01-10 09:33:00  2025-01-10  09:33:00  \n",
            "2025-01-10 09:32:00  2025-01-10  09:32:00  \n",
            "2025-01-10 09:31:00  2025-01-10  09:31:00  \n",
            "2025-01-10 09:30:00  2025-01-10  09:30:00  \n",
            "\n",
            "[7820 rows x 7 columns]\n"
          ]
        }
      ],
      "source": [
        "data=data.between_time('09:30','16:00')\n",
        "print(data)"
      ]
    },
    {
      "cell_type": "code",
      "execution_count": 11,
      "metadata": {
        "colab": {
          "base_uri": "https://localhost:8080/"
        },
        "id": "yJVUlBJShFYD",
        "outputId": "b3fbcc33-a81b-4cd1-94ba-82d026aae10b"
      },
      "outputs": [
        {
          "output_type": "execute_result",
          "data": {
            "text/plain": [
              "DatetimeIndex(['2025-02-07 16:00:00', '2025-02-07 15:59:00',\n",
              "               '2025-02-07 15:58:00', '2025-02-07 15:57:00',\n",
              "               '2025-02-07 15:56:00', '2025-02-07 15:55:00',\n",
              "               '2025-02-07 15:54:00', '2025-02-07 15:53:00',\n",
              "               '2025-02-07 15:52:00', '2025-02-07 15:51:00',\n",
              "               ...\n",
              "               '2025-01-10 09:39:00', '2025-01-10 09:38:00',\n",
              "               '2025-01-10 09:37:00', '2025-01-10 09:36:00',\n",
              "               '2025-01-10 09:35:00', '2025-01-10 09:34:00',\n",
              "               '2025-01-10 09:33:00', '2025-01-10 09:32:00',\n",
              "               '2025-01-10 09:31:00', '2025-01-10 09:30:00'],\n",
              "              dtype='datetime64[ns]', name='date', length=7820, freq=None)"
            ]
          },
          "metadata": {},
          "execution_count": 11
        }
      ],
      "source": [
        "data.index"
      ]
    },
    {
      "cell_type": "code",
      "execution_count": 12,
      "metadata": {
        "colab": {
          "base_uri": "https://localhost:8080/"
        },
        "id": "dlmd9WcNoL8e",
        "outputId": "f85410a1-0785-4432-bfdd-0181e1ab200a"
      },
      "outputs": [
        {
          "output_type": "stream",
          "name": "stdout",
          "text": [
            "0       227.6300\n",
            "1       227.7100\n",
            "2       227.6850\n",
            "3       227.7900\n",
            "4       227.7700\n",
            "          ...   \n",
            "7815    238.3600\n",
            "7816    238.9200\n",
            "7817    238.4900\n",
            "7818    238.9512\n",
            "7819    239.9650\n",
            "Name: 4. close, Length: 7820, dtype: float64\n",
            "0       227.710\n",
            "1       227.685\n",
            "2       227.780\n",
            "3       227.780\n",
            "4       227.670\n",
            "         ...   \n",
            "7815    238.930\n",
            "7816    238.490\n",
            "7817    238.990\n",
            "7818    239.960\n",
            "7819    240.010\n",
            "Name: 1. open, Length: 7820, dtype: float64\n"
          ]
        }
      ],
      "source": [
        "#prediction made for the close date\n",
        "close_dataframe=data.reset_index()['4. close']\n",
        "print(close_dataframe)\n",
        "\n",
        "#prediction made for the close date\n",
        "open_dataframe=data.reset_index()['1. open']\n",
        "print(open_dataframe)"
      ]
    },
    {
      "cell_type": "markdown",
      "metadata": {
        "id": "PAj81Hu1eVvP"
      },
      "source": []
    },
    {
      "cell_type": "markdown",
      "metadata": {
        "id": "4egadhisecJ3"
      },
      "source": [
        "**PLOT OF OPEN AND CLOSE VALUES**"
      ]
    },
    {
      "cell_type": "code",
      "execution_count": 13,
      "metadata": {
        "colab": {
          "base_uri": "https://localhost:8080/",
          "height": 447
        },
        "id": "Cd21DOthehmw",
        "outputId": "e49d2d15-058a-4e84-fe05-e371e6b89622"
      },
      "outputs": [
        {
          "output_type": "execute_result",
          "data": {
            "text/plain": [
              "[<matplotlib.lines.Line2D at 0x78811a5fa910>]"
            ]
          },
          "metadata": {},
          "execution_count": 13
        },
        {
          "output_type": "display_data",
          "data": {
            "text/plain": [
              "<Figure size 640x480 with 1 Axes>"
            ],
            "image/png": "[encoded data removed]"
          },
          "metadata": {}
        }
      ],
      "source": [
        "#plot of open values\n",
        "plt.plot(open_dataframe)"
      ]
    },
    {
      "cell_type": "code",
      "execution_count": 14,
      "metadata": {
        "colab": {
          "base_uri": "https://localhost:8080/",
          "height": 447
        },
        "id": "lvV8wJDceRFl",
        "outputId": "9af4a790-3034-40c2-a94b-6aed4cd56db5"
      },
      "outputs": [
        {
          "output_type": "execute_result",
          "data": {
            "text/plain": [
              "[<matplotlib.lines.Line2D at 0x78811b874250>]"
            ]
          },
          "metadata": {},
          "execution_count": 14
        },
        {
          "output_type": "display_data",
          "data": {
            "text/plain": [
              "<Figure size 640x480 with 1 Axes>"
            ],
            "image/png": "[encoded data removed]"
          },
          "metadata": {}
        }
      ],
      "source": [
        "plt.plot(close_dataframe)"
      ]
    },
    {
      "cell_type": "markdown",
      "metadata": {
        "id": "Z4jFOH-H7cg9"
      },
      "source": [
        "# Data PreProcessing"
      ]
    },
    {
      "cell_type": "markdown",
      "metadata": {
        "id": "wJeP1rygfU7D"
      },
      "source": [
        "**Importing numpy**"
      ]
    },
    {
      "cell_type": "code",
      "execution_count": 15,
      "metadata": {
        "id": "KY4SBdyzfe24"
      },
      "outputs": [],
      "source": [
        "import numpy as np"
      ]
    },
    {
      "cell_type": "markdown",
      "metadata": {
        "id": "SB3Ydy2pfkH5"
      },
      "source": [
        "**Scaling the the values between 0 and 1**"
      ]
    },
    {
      "cell_type": "code",
      "execution_count": 16,
      "metadata": {
        "colab": {
          "base_uri": "https://localhost:8080/"
        },
        "id": "qpNl5gBpfsJ8",
        "outputId": "62c36c47-a62a-402a-c0e5-e9fad6c176df"
      },
      "outputs": [
        {
          "output_type": "stream",
          "name": "stdout",
          "text": [
            "the close array\n",
            "[[0.29994456]\n",
            " [0.3029015 ]\n",
            " [0.30197745]\n",
            " ...\n",
            " [0.7013491 ]\n",
            " [0.71839586]\n",
            " [0.75586768]]\n"
          ]
        }
      ],
      "source": [
        "from sklearn.preprocessing import MinMaxScaler\n",
        "#allocating the value in the range 0 and 1 to the data values of the column\n",
        "scaler=MinMaxScaler(feature_range=(0,1))\n",
        "close_dataframe_2d=close_dataframe.values.reshape(-1,1)\n",
        "\n",
        "scaler.fit(close_dataframe_2d)\n",
        "print(\"the close array\")\n",
        "close_transform=scaler.transform(close_dataframe_2d)\n",
        "print(close_transform)\n"
      ]
    },
    {
      "cell_type": "markdown",
      "metadata": {
        "id": "rDqVlsX2k4m9"
      },
      "source": [
        "**Data Split based on percentage of the total entries avaliable**\n",
        "\n",
        "the train - previous data\n",
        "\n",
        "the test- the newer data"
      ]
    },
    {
      "cell_type": "code",
      "execution_count": 17,
      "metadata": {
        "colab": {
          "base_uri": "https://localhost:8080/"
        },
        "id": "BdPHqmGUfi6i",
        "outputId": "fd685a5e-fa8e-4941-8be1-7ba2d1e0085d"
      },
      "outputs": [
        {
          "output_type": "stream",
          "name": "stdout",
          "text": [
            "TRAIN DATA [[0.29994456]\n",
            " [0.3029015 ]\n",
            " [0.30197745]\n",
            " ...\n",
            " [0.04269082]\n",
            " [0.04509333]\n",
            " [0.04233229]]\n",
            "TEST DATA  [[0.03917945]\n",
            " [0.03714655]\n",
            " [0.0323674 ]\n",
            " ...\n",
            " [0.7013491 ]\n",
            " [0.71839586]\n",
            " [0.75586768]]\n"
          ]
        }
      ],
      "source": [
        "\n",
        "#data set split for the close price as train and test\n",
        "training_size_close=int(len(close_dataframe)*0.68)\n",
        "test_size_close=len(close_dataframe)-training_size_close\n",
        "train_data_close=close_transform[0:training_size_close]\n",
        "test_data_close=close_transform[training_size_close:len(close_dataframe):1]\n",
        "print(\"TRAIN DATA\",train_data_close)\n",
        "print(\"TEST DATA \",test_data_close)"
      ]
    },
    {
      "cell_type": "code",
      "execution_count": 18,
      "metadata": {
        "colab": {
          "base_uri": "https://localhost:8080/"
        },
        "id": "I4fDsZGx5Fzv",
        "outputId": "54215c6e-99bc-41dd-f714-d65c730435dd"
      },
      "outputs": [
        {
          "output_type": "stream",
          "name": "stdout",
          "text": [
            "TRAIN DATA FOR close [[0.29994456]\n",
            " [0.3029015 ]\n",
            " [0.30197745]\n",
            " ...\n",
            " [0.04269082]\n",
            " [0.04509333]\n",
            " [0.04233229]]\n",
            "TEST DATA for close [[0.03917945]\n",
            " [0.03714655]\n",
            " [0.0323674 ]\n",
            " ...\n",
            " [0.7013491 ]\n",
            " [0.71839586]\n",
            " [0.75586768]]\n",
            "5317\n",
            "2503\n"
          ]
        }
      ],
      "source": [
        "#data set split for the close price as train and test\n",
        "training_size_open=int(len(open_dataframe)*0.68)\n",
        "test_size_open=len(open_dataframe)-training_size_open\n",
        "train_data=close_transform[0:training_size_open]\n",
        "test_data=close_transform[training_size_close:len(open_dataframe):1]\n",
        "print(\"TRAIN DATA FOR close\",train_data)\n",
        "print(\"TEST DATA for close\",test_data)\n",
        "print(len(train_data))\n",
        "print(len(test_data))"
      ]
    },
    {
      "cell_type": "markdown",
      "metadata": {
        "id": "29FqKEO86unf"
      },
      "source": [
        " **CREATING THE DATASET**"
      ]
    },
    {
      "cell_type": "code",
      "execution_count": 19,
      "metadata": {
        "collapsed": true,
        "id": "I8YLVJPt6_UV"
      },
      "outputs": [],
      "source": [
        "import numpy\n",
        "def create_dataset(dataset, time_step=1):\n",
        "    dataX, dataY = [], []\n",
        "    for i in range(len(dataset) - time_step - 1):\n",
        "        a = dataset[i:(i + time_step), 0]\n",
        "        dataX.append(a)\n",
        "        dataY.append(dataset[i + time_step, 0])\n",
        "\n",
        "    return numpy.array(dataX), numpy.array(dataY)\n"
      ]
    },
    {
      "cell_type": "code",
      "execution_count": 20,
      "metadata": {
        "colab": {
          "base_uri": "https://localhost:8080/"
        },
        "id": "0itgElbhjNS8",
        "outputId": "a06cfc07-1b80-4b6c-f9bc-5642ef136caf"
      },
      "outputs": [
        {
          "output_type": "stream",
          "name": "stdout",
          "text": [
            "[[0.29994456 0.3029015  0.30197745 ... 0.31288117 0.31141009 0.31029385]\n",
            " [0.3029015  0.30197745 0.30585844 ... 0.31141009 0.31029385 0.31509887]\n",
            " [0.30197745 0.30585844 0.3051192  ... 0.31029385 0.31509887 0.31620773]\n",
            " ...\n",
            " [0.05137682 0.04786546 0.04989836 ... 0.03936795 0.04121235 0.03885419]\n",
            " [0.04786546 0.04989836 0.05636666 ... 0.04121235 0.03885419 0.04269082]\n",
            " [0.04989836 0.05636666 0.05466642 ... 0.03885419 0.04269082 0.04269082]]\n",
            "[0.31509887 0.31620773 0.31472926 ... 0.04269082 0.04269082 0.04509333]\n"
          ]
        }
      ],
      "source": [
        "time_step=100\n",
        "X_train,Y_train=create_dataset(train_data,time_step)\n",
        "X_test,Y_test=create_dataset(test_data,time_step)\n",
        "print(X_train)\n",
        "print(Y_train)"
      ]
    },
    {
      "cell_type": "code",
      "execution_count": 21,
      "metadata": {
        "colab": {
          "base_uri": "https://localhost:8080/"
        },
        "id": "XKCZ1iikloA7",
        "outputId": "a47e27a7-8fc3-4ec7-c99a-eeeb1ee99923"
      },
      "outputs": [
        {
          "output_type": "stream",
          "name": "stdout",
          "text": [
            "(5216, 100)\n",
            "(5216,)\n"
          ]
        },
        {
          "output_type": "execute_result",
          "data": {
            "text/plain": [
              "(None, None)"
            ]
          },
          "metadata": {},
          "execution_count": 21
        }
      ],
      "source": [
        "print(X_train.shape),print(Y_train.shape)"
      ]
    },
    {
      "cell_type": "markdown",
      "metadata": {
        "id": "bQ_5oKxGm55d"
      },
      "source": [
        "RESHAPING THE LSTM"
      ]
    },
    {
      "cell_type": "code",
      "execution_count": 22,
      "metadata": {
        "id": "lRGou-Hwm-gc"
      },
      "outputs": [],
      "source": [
        "X_train=X_train.reshape(X_train.shape[0],X_train.shape[1],1)\n",
        "X_test=X_test.reshape(X_test.shape[0],X_test.shape[1],1)\n",
        "#converting the data into three dimensional one X_train.shape[1] ,1 has to be added into the lstm model\n",
        "#it is the foarmat of adding the input to the model\n"
      ]
    },
    {
      "cell_type": "markdown",
      "metadata": {
        "id": "5wug5V8y7c6A"
      },
      "source": [
        "# Developing the model"
      ]
    },
    {
      "cell_type": "code",
      "execution_count": 23,
      "metadata": {
        "id": "WBZtti7vXk35"
      },
      "outputs": [],
      "source": [
        "#imports\n",
        "from tensorflow.keras.models import Sequential\n",
        "from tensorflow.keras.layers import Dense\n",
        "from tensorflow.keras.layers import LSTM"
      ]
    },
    {
      "cell_type": "markdown",
      "metadata": {
        "id": "tc_HrWzdYZ5b"
      },
      "source": [
        "**Defining the model**"
      ]
    },
    {
      "cell_type": "code",
      "execution_count": 27,
      "metadata": {
        "id": "0SBAPCo5YXLE"
      },
      "outputs": [],
      "source": [
        "from keras.layers import Dropout\n",
        "model=Sequential()\n",
        "model.add(LSTM(50,return_sequences=True,input_shape=(100,1)))\n",
        "model.add(LSTM(50,return_sequences=True))\n",
        "Dropout(0.2),\n",
        "model.add(Dense(1))\n",
        "model.compile(loss='mean_squared_error',optimizer='adam')\n"
      ]
    },
    {
      "cell_type": "code",
      "execution_count": 28,
      "metadata": {
        "colab": {
          "base_uri": "https://localhost:8080/",
          "height": 225
        },
        "id": "l_CT2V64bJbN",
        "outputId": "26fdd686-c1e5-40eb-e15f-2eb9b5ad061a"
      },
      "outputs": [
        {
          "output_type": "display_data",
          "data": {
            "text/plain": [
              "\u001b[1mModel: \"sequential_1\"\u001b[0m\n"
            ],
            "text/html": [
              "<pre style=\"white-space:pre;overflow-x:auto;line-height:normal;font-family:Menlo,'DejaVu Sans Mono',consolas,'Courier New',monospace\"><span style=\"font-weight: bold\">Model: \"sequential_1\"</span>\n",
              "</pre>\n"
            ]
          },
          "metadata": {}
        },
        {
          "output_type": "display_data",
          "data": {
            "text/plain": [
              "┏━━━━━━━━━━━━━━━━━━━━━━━━━━━━━━━━━━━━━━┳━━━━━━━━━━━━━━━━━━━━━━━━━━━━━┳━━━━━━━━━━━━━━━━━┓\n",
              "┃\u001b[1m \u001b[0m\u001b[1mLayer (type)                        \u001b[0m\u001b[1m \u001b[0m┃\u001b[1m \u001b[0m\u001b[1mOutput Shape               \u001b[0m\u001b[1m \u001b[0m┃\u001b[1m \u001b[0m\u001b[1m        Param #\u001b[0m\u001b[1m \u001b[0m┃\n",
              "┡━━━━━━━━━━━━━━━━━━━━━━━━━━━━━━━━━━━━━━╇━━━━━━━━━━━━━━━━━━━━━━━━━━━━━╇━━━━━━━━━━━━━━━━━┩\n",
              "│ lstm_2 (\u001b[38;5;33mLSTM\u001b[0m)                        │ (\u001b[38;5;45mNone\u001b[0m, \u001b[38;5;34m100\u001b[0m, \u001b[38;5;34m50\u001b[0m)             │          \u001b[38;5;34m10,400\u001b[0m │\n",
              "├──────────────────────────────────────┼─────────────────────────────┼─────────────────┤\n",
              "│ lstm_3 (\u001b[38;5;33mLSTM\u001b[0m)                        │ (\u001b[38;5;45mNone\u001b[0m, \u001b[38;5;34m100\u001b[0m, \u001b[38;5;34m50\u001b[0m)             │          \u001b[38;5;34m20,200\u001b[0m │\n",
              "├──────────────────────────────────────┼─────────────────────────────┼─────────────────┤\n",
              "│ dense_1 (\u001b[38;5;33mDense\u001b[0m)                      │ (\u001b[38;5;45mNone\u001b[0m, \u001b[38;5;34m100\u001b[0m, \u001b[38;5;34m1\u001b[0m)              │              \u001b[38;5;34m51\u001b[0m │\n",
              "└──────────────────────────────────────┴─────────────────────────────┴─────────────────┘\n"
            ],
            "text/html": [
              "<pre style=\"white-space:pre;overflow-x:auto;line-height:normal;font-family:Menlo,'DejaVu Sans Mono',consolas,'Courier New',monospace\">┏━━━━━━━━━━━━━━━━━━━━━━━━━━━━━━━━━━━━━━┳━━━━━━━━━━━━━━━━━━━━━━━━━━━━━┳━━━━━━━━━━━━━━━━━┓\n",
              "┃<span style=\"font-weight: bold\"> Layer (type)                         </span>┃<span style=\"font-weight: bold\"> Output Shape                </span>┃<span style=\"font-weight: bold\">         Param # </span>┃\n",
              "┡━━━━━━━━━━━━━━━━━━━━━━━━━━━━━━━━━━━━━━╇━━━━━━━━━━━━━━━━━━━━━━━━━━━━━╇━━━━━━━━━━━━━━━━━┩\n",
              "│ lstm_2 (<span style=\"color: #0087ff; text-decoration-color: #0087ff\">LSTM</span>)                        │ (<span style=\"color: #00d7ff; text-decoration-color: #00d7ff\">None</span>, <span style=\"color: #00af00; text-decoration-color: #00af00\">100</span>, <span style=\"color: #00af00; text-decoration-color: #00af00\">50</span>)             │          <span style=\"color: #00af00; text-decoration-color: #00af00\">10,400</span> │\n",
              "├──────────────────────────────────────┼─────────────────────────────┼─────────────────┤\n",
              "│ lstm_3 (<span style=\"color: #0087ff; text-decoration-color: #0087ff\">LSTM</span>)                        │ (<span style=\"color: #00d7ff; text-decoration-color: #00d7ff\">None</span>, <span style=\"color: #00af00; text-decoration-color: #00af00\">100</span>, <span style=\"color: #00af00; text-decoration-color: #00af00\">50</span>)             │          <span style=\"color: #00af00; text-decoration-color: #00af00\">20,200</span> │\n",
              "├──────────────────────────────────────┼─────────────────────────────┼─────────────────┤\n",
              "│ dense_1 (<span style=\"color: #0087ff; text-decoration-color: #0087ff\">Dense</span>)                      │ (<span style=\"color: #00d7ff; text-decoration-color: #00d7ff\">None</span>, <span style=\"color: #00af00; text-decoration-color: #00af00\">100</span>, <span style=\"color: #00af00; text-decoration-color: #00af00\">1</span>)              │              <span style=\"color: #00af00; text-decoration-color: #00af00\">51</span> │\n",
              "└──────────────────────────────────────┴─────────────────────────────┴─────────────────┘\n",
              "</pre>\n"
            ]
          },
          "metadata": {}
        },
        {
          "output_type": "display_data",
          "data": {
            "text/plain": [
              "\u001b[1m Total params: \u001b[0m\u001b[38;5;34m30,651\u001b[0m (119.73 KB)\n"
            ],
            "text/html": [
              "<pre style=\"white-space:pre;overflow-x:auto;line-height:normal;font-family:Menlo,'DejaVu Sans Mono',consolas,'Courier New',monospace\"><span style=\"font-weight: bold\"> Total params: </span><span style=\"color: #00af00; text-decoration-color: #00af00\">30,651</span> (119.73 KB)\n",
              "</pre>\n"
            ]
          },
          "metadata": {}
        },
        {
          "output_type": "display_data",
          "data": {
            "text/plain": [
              "\u001b[1m Trainable params: \u001b[0m\u001b[38;5;34m30,651\u001b[0m (119.73 KB)\n"
            ],
            "text/html": [
              "<pre style=\"white-space:pre;overflow-x:auto;line-height:normal;font-family:Menlo,'DejaVu Sans Mono',consolas,'Courier New',monospace\"><span style=\"font-weight: bold\"> Trainable params: </span><span style=\"color: #00af00; text-decoration-color: #00af00\">30,651</span> (119.73 KB)\n",
              "</pre>\n"
            ]
          },
          "metadata": {}
        },
        {
          "output_type": "display_data",
          "data": {
            "text/plain": [
              "\u001b[1m Non-trainable params: \u001b[0m\u001b[38;5;34m0\u001b[0m (0.00 B)\n"
            ],
            "text/html": [
              "<pre style=\"white-space:pre;overflow-x:auto;line-height:normal;font-family:Menlo,'DejaVu Sans Mono',consolas,'Courier New',monospace\"><span style=\"font-weight: bold\"> Non-trainable params: </span><span style=\"color: #00af00; text-decoration-color: #00af00\">0</span> (0.00 B)\n",
              "</pre>\n"
            ]
          },
          "metadata": {}
        }
      ],
      "source": [
        "model.summary()"
      ]
    },
    {
      "cell_type": "markdown",
      "metadata": {
        "id": "5IJe7bCvb2OX"
      },
      "source": [
        "#FITTING THE MODEL AND TESTING IT"
      ]
    },
    {
      "cell_type": "code",
      "execution_count": null,
      "metadata": {
        "colab": {
          "base_uri": "https://localhost:8080/"
        },
        "id": "QSbbTs4Fb1of",
        "outputId": "988a7047-be87-4e40-db0d-029a7d2e8a8d"
      },
      "outputs": [
        {
          "output_type": "stream",
          "name": "stdout",
          "text": [
            "Epoch 1/100\n",
            "\u001b[1m326/326\u001b[0m \u001b[32m━━━━━━━━━━━━━━━━━━━━\u001b[0m\u001b[37m\u001b[0m \u001b[1m28s\u001b[0m 77ms/step - loss: 0.0656 - val_loss: 0.0233\n",
            "Epoch 2/100\n",
            "\u001b[1m326/326\u001b[0m \u001b[32m━━━━━━━━━━━━━━━━━━━━\u001b[0m\u001b[37m\u001b[0m \u001b[1m41s\u001b[0m 76ms/step - loss: 0.0515 - val_loss: 0.0237\n",
            "Epoch 3/100\n",
            "\u001b[1m326/326\u001b[0m \u001b[32m━━━━━━━━━━━━━━━━━━━━\u001b[0m\u001b[37m\u001b[0m \u001b[1m25s\u001b[0m 76ms/step - loss: 0.0512 - val_loss: 0.0247\n",
            "Epoch 4/100\n",
            "\u001b[1m326/326\u001b[0m \u001b[32m━━━━━━━━━━━━━━━━━━━━\u001b[0m\u001b[37m\u001b[0m \u001b[1m39s\u001b[0m 71ms/step - loss: 0.0501 - val_loss: 0.0224\n",
            "Epoch 5/100\n",
            "\u001b[1m326/326\u001b[0m \u001b[32m━━━━━━━━━━━━━━━━━━━━\u001b[0m\u001b[37m\u001b[0m \u001b[1m22s\u001b[0m 67ms/step - loss: 0.0496 - val_loss: 0.0223\n",
            "Epoch 6/100\n",
            "\u001b[1m326/326\u001b[0m \u001b[32m━━━━━━━━━━━━━━━━━━━━\u001b[0m\u001b[37m\u001b[0m \u001b[1m23s\u001b[0m 72ms/step - loss: 0.0512 - val_loss: 0.0195\n",
            "Epoch 7/100\n",
            "\u001b[1m326/326\u001b[0m \u001b[32m━━━━━━━━━━━━━━━━━━━━\u001b[0m\u001b[37m\u001b[0m \u001b[1m43s\u001b[0m 77ms/step - loss: 0.0507 - val_loss: 0.0227\n",
            "Epoch 8/100\n",
            "\u001b[1m326/326\u001b[0m \u001b[32m━━━━━━━━━━━━━━━━━━━━\u001b[0m\u001b[37m\u001b[0m \u001b[1m42s\u001b[0m 79ms/step - loss: 0.0491 - val_loss: 0.0264\n",
            "Epoch 9/100\n",
            "\u001b[1m326/326\u001b[0m \u001b[32m━━━━━━━━━━━━━━━━━━━━\u001b[0m\u001b[37m\u001b[0m \u001b[1m38s\u001b[0m 71ms/step - loss: 0.0486 - val_loss: 0.0276\n",
            "Epoch 10/100\n",
            "\u001b[1m326/326\u001b[0m \u001b[32m━━━━━━━━━━━━━━━━━━━━\u001b[0m\u001b[37m\u001b[0m \u001b[1m41s\u001b[0m 71ms/step - loss: 0.0498 - val_loss: 0.0242\n",
            "Epoch 11/100\n",
            "\u001b[1m326/326\u001b[0m \u001b[32m━━━━━━━━━━━━━━━━━━━━\u001b[0m\u001b[37m\u001b[0m \u001b[1m44s\u001b[0m 80ms/step - loss: 0.0493 - val_loss: 0.0209\n",
            "Epoch 12/100\n",
            "\u001b[1m326/326\u001b[0m \u001b[32m━━━━━━━━━━━━━━━━━━━━\u001b[0m\u001b[37m\u001b[0m \u001b[1m41s\u001b[0m 80ms/step - loss: 0.0499 - val_loss: 0.0231\n",
            "Epoch 13/100\n",
            "\u001b[1m326/326\u001b[0m \u001b[32m━━━━━━━━━━━━━━━━━━━━\u001b[0m\u001b[37m\u001b[0m \u001b[1m38s\u001b[0m 69ms/step - loss: 0.0503 - val_loss: 0.0181\n",
            "Epoch 14/100\n",
            "\u001b[1m326/326\u001b[0m \u001b[32m━━━━━━━━━━━━━━━━━━━━\u001b[0m\u001b[37m\u001b[0m \u001b[1m41s\u001b[0m 68ms/step - loss: 0.0505 - val_loss: 0.0205\n",
            "Epoch 15/100\n",
            "\u001b[1m326/326\u001b[0m \u001b[32m━━━━━━━━━━━━━━━━━━━━\u001b[0m\u001b[37m\u001b[0m \u001b[1m42s\u001b[0m 71ms/step - loss: 0.0491 - val_loss: 0.0249\n",
            "Epoch 16/100\n",
            "\u001b[1m326/326\u001b[0m \u001b[32m━━━━━━━━━━━━━━━━━━━━\u001b[0m\u001b[37m\u001b[0m \u001b[1m41s\u001b[0m 73ms/step - loss: 0.0501 - val_loss: 0.0212\n",
            "Epoch 17/100\n",
            "\u001b[1m326/326\u001b[0m \u001b[32m━━━━━━━━━━━━━━━━━━━━\u001b[0m\u001b[37m\u001b[0m \u001b[1m41s\u001b[0m 72ms/step - loss: 0.0516 - val_loss: 0.0267\n",
            "Epoch 18/100\n",
            "\u001b[1m326/326\u001b[0m \u001b[32m━━━━━━━━━━━━━━━━━━━━\u001b[0m\u001b[37m\u001b[0m \u001b[1m0s\u001b[0m 61ms/step - loss: 0.0509"
          ]
        }
      ],
      "source": [
        "model.fit(X_train,Y_train,validation_data=(X_test,Y_test),epochs=100,batch_size=16)"
      ]
    },
    {
      "cell_type": "code",
      "execution_count": null,
      "metadata": {
        "colab": {
          "base_uri": "https://localhost:8080/",
          "height": 35
        },
        "id": "6NlU8-nK86ss",
        "outputId": "f21d3d2e-c613-4ccc-98d5-6c1578f7cd4e"
      },
      "outputs": [
        {
          "data": {
            "application/vnd.google.colaboratory.intrinsic+json": {
              "type": "string"
            },
            "text/plain": [
              "'2.18.0'"
            ]
          },
          "execution_count": 33,
          "metadata": {},
          "output_type": "execute_result"
        }
      ],
      "source": [
        "import tensorflow as tf\n",
        "tf.__version__"
      ]
    },
    {
      "cell_type": "code",
      "execution_count": null,
      "metadata": {
        "colab": {
          "base_uri": "https://localhost:8080/"
        },
        "id": "2Dmf2oUpCuGV",
        "outputId": "7145395a-409c-4aed-c771-0bccbd523923"
      },
      "outputs": [
        {
          "name": "stdout",
          "output_type": "stream",
          "text": [
            "\u001b[1m405/405\u001b[0m \u001b[32m━━━━━━━━━━━━━━━━━━━━\u001b[0m\u001b[37m\u001b[0m \u001b[1m17s\u001b[0m 40ms/step\n",
            "\u001b[1m189/189\u001b[0m \u001b[32m━━━━━━━━━━━━━━━━━━━━\u001b[0m\u001b[37m\u001b[0m \u001b[1m8s\u001b[0m 44ms/step\n"
          ]
        }
      ],
      "source": [
        "\n",
        "#prediction for train set and the test set\n",
        "train_predict=model.predict(X_train)\n",
        "test_predict=model.predict(X_test)"
      ]
    },
    {
      "cell_type": "markdown",
      "metadata": {
        "id": "dVaPYc0RIBnx"
      },
      "source": [
        "RETRANSFORMATION OF THE TEST ANS TRAIN SET"
      ]
    },
    {
      "cell_type": "code",
      "execution_count": null,
      "metadata": {
        "id": "vUFiv0dlIH7n"
      },
      "outputs": [],
      "source": [
        "train_predict=scaler.inverse_transform(train_predict)\n",
        "#working on the results based earlier\n",
        "test_predict=scaler.inverse_transform(test_predict)\n",
        "\n",
        "#the above commands are retransforming the original values back"
      ]
    },
    {
      "cell_type": "markdown",
      "metadata": {
        "id": "q9Rhba65I7AY"
      },
      "source": [
        "CALCULATING THE MEAN SQUARED OF THE PREDICTIONS"
      ]
    },
    {
      "cell_type": "code",
      "execution_count": null,
      "metadata": {
        "colab": {
          "base_uri": "https://localhost:8080/"
        },
        "id": "oaI5HbkUI6jN",
        "outputId": "0786f667-8230-4d17-8aa2-74d3cb507f77"
      },
      "outputs": [
        {
          "data": {
            "text/plain": [
              "102896.00239532317"
            ]
          },
          "execution_count": 37,
          "metadata": {},
          "output_type": "execute_result"
        }
      ],
      "source": [
        "import math\n",
        "from sklearn.metrics import mean_squared_error\n",
        "math.sqrt(mean_squared_error(Y_train,train_predict))"
      ]
    },
    {
      "cell_type": "code",
      "execution_count": null,
      "metadata": {
        "colab": {
          "base_uri": "https://localhost:8080/"
        },
        "id": "1Jg11slHLgmS",
        "outputId": "54ff7faf-f61d-4b0a-ed80-3402436ac6fc"
      },
      "outputs": [
        {
          "data": {
            "text/plain": [
              "106501.38158450901"
            ]
          },
          "execution_count": 38,
          "metadata": {},
          "output_type": "execute_result"
        }
      ],
      "source": [
        "math.sqrt(mean_squared_error(Y_test,test_predict))"
      ]
    },
    {
      "cell_type": "markdown",
      "metadata": {
        "id": "UwsuKU6S7dUf"
      },
      "source": [
        "# PLOTTING THE MODEL"
      ]
    },
    {
      "cell_type": "code",
      "execution_count": null,
      "metadata": {
        "colab": {
          "base_uri": "https://localhost:8080/",
          "height": 430
        },
        "id": "x9zd7UpLNtAf",
        "outputId": "c2dfa5cb-aafb-46f4-ffdf-6e5ee9171717"
      },
      "outputs": [
        {
          "data": {
            "image/png": "[encoded data removed]",
            "text/plain": [
              "<Figure size 640x480 with 1 Axes>"
            ]
          },
          "metadata": {},
          "output_type": "display_data"
        }
      ],
      "source": [
        "#plotting the model\n",
        "look_back=100\n",
        "train_predict_plot=numpy.empty_like(close_dataframe)\n",
        "train_predict_plot[:]=numpy.nan\n",
        "# Change: Use single indexing to assign values to train_predict_plot\n",
        "train_predict_plot[look_back:len(train_predict)+look_back]=train_predict[:,0] #get the values by specifying the column\n",
        "test_predict_plot=numpy.empty_like(close_dataframe)\n",
        "test_predict_plot[:]=numpy.nan\n",
        "# Change: Use single indexing to assign values to test_predict_plot\n",
        "test_predict_plot[len(train_predict)+(look_back*2)+1:len(close_dataframe)-1]=test_predict[:,0]  #get the values by specifying the column\n",
        "plt.plot(scaler.inverse_transform(close_dataframe.values.reshape(-1,1)))\n",
        "plt.plot(train_predict_plot)\n",
        "plt.plot(test_predict_plot)\n",
        "plt.show()"
      ]
    },
    {
      "cell_type": "markdown",
      "metadata": {
        "id": "2aqnFaaiT7h-"
      },
      "source": [
        "# Prediction of the price\n"
      ]
    },
    {
      "cell_type": "code",
      "execution_count": null,
      "metadata": {
        "colab": {
          "base_uri": "https://localhost:8080/"
        },
        "id": "CNkoPxdoUlGx",
        "outputId": "a966e5b8-cea8-4409-f727-4bc08e25d4d4"
      },
      "outputs": [
        {
          "data": {
            "text/plain": [
              "6144"
            ]
          },
          "execution_count": 70,
          "metadata": {},
          "output_type": "execute_result"
        }
      ],
      "source": [
        "len(test_data)"
      ]
    },
    {
      "cell_type": "code",
      "execution_count": null,
      "metadata": {
        "colab": {
          "base_uri": "https://localhost:8080/"
        },
        "id": "-vvvQ135VIxx",
        "outputId": "324fed38-0e82-4271-d1db-36a56fc8aebe"
      },
      "outputs": [
        {
          "data": {
            "text/plain": [
              "(1, 100)"
            ]
          },
          "execution_count": 68,
          "metadata": {},
          "output_type": "execute_result"
        }
      ],
      "source": [
        "x_input=test_data[6044:].reshape(1,-1)\n",
        "x_input.shape"
      ]
    },
    {
      "cell_type": "markdown",
      "metadata": {
        "id": "HzNdmYa_Wiu_"
      },
      "source": [
        "Converting the input into a list\n"
      ]
    },
    {
      "cell_type": "code",
      "execution_count": null,
      "metadata": {
        "colab": {
          "base_uri": "https://localhost:8080/"
        },
        "id": "Yx1xM5fNWmP9",
        "outputId": "88181de9-fa0c-486f-82b4-ec5a301206f3"
      },
      "outputs": [
        {
          "name": "stdout",
          "output_type": "stream",
          "text": [
            "before [array([0.83681737, 0.83700985, 0.83697136, 0.83697136, 0.83616295,\n",
            "       0.83550852, 0.83543153, 0.83547003, 0.83454614, 0.83504658,\n",
            "       0.83450764, 0.8348926 , 0.83512357, 0.83446914, 0.83589348,\n",
            "       0.8365479 , 0.83439215, 0.83389171, 0.83446914, 0.83408419,\n",
            "       0.83462313, 0.83427667, 0.83527755, 0.83427667, 0.83512357,\n",
            "       0.835701  , 0.83504658, 0.83470012, 0.83539304, 0.83423817,\n",
            "       0.83366074, 0.83354525, 0.83346826, 0.83369923, 0.83296782,\n",
            "       0.83304481, 0.8330833 , 0.83292932, 0.83296782, 0.83185145,\n",
            "       0.83169747, 0.83231339, 0.83354525, 0.83377622, 0.8340072 ,\n",
            "       0.83389171, 0.83419968, 0.8340072 , 0.83423817, 0.8331218 ,\n",
            "       0.83393021, 0.83404569, 0.83393021, 0.83389171, 0.83477711,\n",
            "       0.83342976, 0.8348541 , 0.83547003, 0.83527755, 0.83608596,\n",
            "       0.83527755, 0.8357395 , 0.83600897, 0.83539304, 0.83547003,\n",
            "       0.83566251, 0.83554702, 0.83535454, 0.83389171, 0.83473861,\n",
            "       0.83181295, 0.83146649, 0.83115853, 0.83096605, 0.83196693,\n",
            "       0.83208242, 0.83219791, 0.83131251, 0.82950322, 0.82981118,\n",
            "       0.83146649, 0.82973419, 0.82981118, 0.8287718 , 0.83085056,\n",
            "       0.82961871, 0.82738596, 0.82696251, 0.8253457 , 0.82657756,\n",
            "       0.82900278, 0.82911826, 0.83004216, 0.82854083, 0.82830986,\n",
            "       0.82638508, 0.82507623, 0.82415234, 0.82692402, 0.82830986])]\n",
            "after [0.8368173728867386, 0.8370098506257259, 0.8369713550779284, 0.8369713550779284, 0.8361629485741827, 0.8355085242616266, 0.8354315331660317, 0.8354700287138291, 0.8345461355666911, 0.8350465776880575, 0.8345076400188937, 0.8348925954968677, 0.8351235687836523, 0.8344691444710962, 0.8358934797396008, 0.8365479040521567, 0.8343921533755013, 0.8338917112541347, 0.8344691444710962, 0.834084188993122, 0.8346231266622858, 0.8342766667321092, 0.8352775509748419, 0.8342766667321092, 0.8351235687836523, 0.8357010020006136, 0.8350465776880575, 0.8347001177578809, 0.8353930376182342, 0.8342381711843118, 0.8336607379673503, 0.8335452513239582, 0.8334682602283633, 0.8336992335151477, 0.8329678181069967, 0.8330448092025918, 0.833083304750389, 0.8329293225591993, 0.8329678181069967, 0.8318514472208717, 0.8316974650296819, 0.8323133937944408, 0.8335452513239582, 0.8337762246107426, 0.8340071978975273, 0.8338917112541347, 0.8341996756365143, 0.8340071978975273, 0.8342381711843118, 0.8331218002981865, 0.8339302068019322, 0.8340456934453245, 0.8339302068019322, 0.8338917112541347, 0.8347771088534756, 0.8334297646805658, 0.8348540999490704, 0.8354700287138291, 0.8352775509748419, 0.8360859574785878, 0.8352775509748419, 0.835739497548411, 0.8360089663829929, 0.8353930376182342, 0.8354700287138291, 0.8356625064528164, 0.8355470198094238, 0.8353545420704368, 0.8338917112541347, 0.8347386133056781, 0.8318129516730742, 0.8314664917428974, 0.8311585273605181, 0.8309660496215311, 0.8319669338642638, 0.8320824205076564, 0.8321979071510485, 0.8313125095517079, 0.829503218805229, 0.8298111831876084, 0.8314664917428974, 0.8297341920920137, 0.8298111831876084, 0.8287718033970782, 0.8308505629781388, 0.8296187054486212, 0.8273859636763711, 0.8269625126505994, 0.8253456996431078, 0.8265775571726252, 0.8290027766838627, 0.8291182633272548, 0.8300421564743928, 0.8285408301102936, 0.8283098568235091, 0.8263850794336381, 0.8250762308085259, 0.8241523376613878, 0.826924017102802, 0.8283098568235091]\n"
          ]
        }
      ],
      "source": [
        "temp_input=list(x_input)\n",
        "print(\"before\",temp_input)\n",
        "temp_input=temp_input[0].tolist()\n",
        "print(\"after\",temp_input)\n"
      ]
    },
    {
      "cell_type": "code",
      "execution_count": null,
      "metadata": {
        "colab": {
          "base_uri": "https://localhost:8080/"
        },
        "id": "5wSxWPrZWhuW",
        "outputId": "b4310b41-0808-4209-8686-868c883b62bf"
      },
      "outputs": [
        {
          "name": "stdout",
          "output_type": "stream",
          "text": [
            "hello\n"
          ]
        }
      ],
      "source": [
        "print(\"hello\")"
      ]
    }
  ],
  "metadata": {
    "colab": {
      "toc_visible": true,
      "provenance": [],
      "authorship_tag": "ABX9TyNxccPexAnlEXOBI1bJZ2Mc",
      "include_colab_link": true
    },
    "kernelspec": {
      "display_name": "Python 3",
      "name": "python3"
    },
    "language_info": {
      "name": "python"
    }
  },
  "nbformat": 4,
  "nbformat_minor": 0
}